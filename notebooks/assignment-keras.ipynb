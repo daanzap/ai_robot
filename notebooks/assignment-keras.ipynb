{
 "cells": [
  {
   "cell_type": "code",
   "execution_count": null,
   "metadata": {},
   "outputs": [],
   "source": [
    "%load_ext autoreload\n",
    "%autoreload 2\n",
    "%matplotlib inline\n",
    "\n",
    "# update import path\n",
    "import os, sys\n",
    "sys.path.insert(1, os.path.join(sys.path[0], '..', 'src'))\n",
    "\n",
    "import io\n",
    "import pandas as pd\n",
    "import numpy as np\n",
    "import matplotlib.pyplot as plt\n",
    "from sklearn.metrics import mean_absolute_error\n",
    "from sklearn.model_selection import train_test_split\n",
    "\n",
    "# import keras modules\n",
    "import keras\n",
    "from keras.models import Sequential\n",
    "from keras.layers import Dense, Dropout\n",
    "from keras import optimizers\n",
    "from keras import losses"
   ]
  },
  {
   "cell_type": "code",
   "execution_count": null,
   "metadata": {},
   "outputs": [],
   "source": [
    "# read csv\n",
    "data = pd.read_csv(os.path.join('..', 'data', 'datasets', 'log_steering.csv'), index_col=0)\n",
    "\n",
    "# make datetime index (could also be done directly in read_csv)\n",
    "data['datetime'] = pd.to_datetime(data['datetime'])\n",
    "data = data.set_index('datetime')\n",
    "data = data.dropna()\n",
    "print (data.shape)\n",
    "data.head()"
   ]
  },
  {
   "cell_type": "code",
   "execution_count": null,
   "metadata": {},
   "outputs": [],
   "source": [
    "# show the boat approaching the target course\n",
    "data['target_angle'][:2000].plot()\n",
    "data['boat_angle'][:2000].plot()"
   ]
  },
  {
   "cell_type": "code",
   "execution_count": null,
   "metadata": {},
   "outputs": [],
   "source": [
    "# select features and target\n",
    "y = data['rudder_angle']\n",
    "\n",
    "### CHOOSE FEATURES TO USE ###\n",
    "x = data[[...]]\n",
    "\n",
    "# split test/train sets\n",
    "x_train, x_test, y_train, y_test = train_test_split(x, y, test_size=0.10, random_state=42)\n",
    "\n",
    "# create model\n",
    "model = Sequential([\n",
    "    ### ADD YOUR LAYERS HERE ###\n",
    "])\n",
    "\n",
    "### CHOOSE LOSS FUNCTION AND OPTIMIZER ###\n",
    "model.compile(loss='...', optimizer='...')\n",
    "\n",
    "# show summary of the model\n",
    "model.summary()\n",
    "\n",
    "# fit model to training data\n",
    "model.fit(x_train, y_train, validation_split=0.2, epochs=20)\n",
    "\n",
    "# show performance\n",
    "pred_y = model.predict(x_test)\n",
    "print (mean_absolute_error(pred_y, y_test))"
   ]
  },
  {
   "cell_type": "code",
   "execution_count": null,
   "metadata": {
    "collapsed": true,
    "jupyter": {
     "outputs_hidden": true
    }
   },
   "outputs": [],
   "source": [
    "# save model to file\n",
    "model.save(os.path.join('..', 'src', 'strategies', 'my_ml_strategy', 'my-keras-model.h5'))"
   ]
  },
  {
   "cell_type": "code",
   "execution_count": null,
   "metadata": {
    "collapsed": true,
    "jupyter": {
     "outputs_hidden": true
    }
   },
   "outputs": [],
   "source": []
  }
 ],
 "metadata": {
  "kernelspec": {
   "display_name": "Python 3 (ipykernel)",
   "language": "python",
   "name": "python3"
  },
  "language_info": {
   "codemirror_mode": {
    "name": "ipython",
    "version": 3
   },
   "file_extension": ".py",
   "mimetype": "text/x-python",
   "name": "python",
   "nbconvert_exporter": "python",
   "pygments_lexer": "ipython3",
   "version": "3.8.10"
  }
 },
 "nbformat": 4,
 "nbformat_minor": 4
}
