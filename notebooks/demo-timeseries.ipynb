{
 "cells": [
  {
   "cell_type": "code",
   "execution_count": null,
   "metadata": {
    "ExecuteTime": {
     "end_time": "2024-07-07T08:23:07.488568Z",
     "start_time": "2024-07-07T08:23:06.650772Z"
    }
   },
   "outputs": [],
   "source": [
    "%matplotlib inline\n",
    "\n",
    "# importing pandas and numpy\n",
    "import pandas as pd\n",
    "import numpy as np\n",
    "\n",
    "import matplotlib.pyplot as plt\n",
    "import os"
   ]
  },
  {
   "cell_type": "code",
   "execution_count": null,
   "metadata": {
    "ExecuteTime": {
     "end_time": "2024-07-07T08:23:07.515219Z",
     "start_time": "2024-07-07T08:23:07.490256Z"
    }
   },
   "outputs": [],
   "source": [
    "# TG\tEtmaalgemiddelde temperatuur (in 0.1 graden Celsius)\n",
    "# RH\tEtmaalsom van de neerslag (in 0.1 mm) (-1 voor <0.05 mm)\n",
    "# SP\tPercentage van de langst mogelijke zonneschijnduur\n",
    "# FG\tEtmaalgemiddelde windsnelheid (in 0.1 m/s)\n",
    "\n",
    "df = pd.read_csv(os.path.join('..', 'data', 'datasets', 'etmgeg_260.csv'), index_col='YYYYMMDD', parse_dates=['YYYYMMDD'])\n",
    "df.head()"
   ]
  },
  {
   "cell_type": "code",
   "execution_count": null,
   "metadata": {
    "ExecuteTime": {
     "end_time": "2024-07-07T08:23:08.978326Z",
     "start_time": "2024-07-07T08:23:08.476913Z"
    }
   },
   "outputs": [],
   "source": [
    "_, ax = plt.subplots(figsize=(20, 10))\n",
    "df.FG.plot(ax=ax)"
   ]
  },
  {
   "cell_type": "code",
   "execution_count": null,
   "metadata": {
    "ExecuteTime": {
     "end_time": "2024-07-07T08:23:10.399408Z",
     "start_time": "2024-07-07T08:23:09.958892Z"
    }
   },
   "outputs": [],
   "source": [
    "# moving windows\n",
    "_, ax = plt.subplots(figsize=(20, 10))\n",
    "df.FG.rolling(90).mean().plot(ax=ax)\n",
    "df.FG.rolling(360).mean().plot(ax=ax)\n",
    "plt.grid(True)\n",
    "plt.legend()"
   ]
  },
  {
   "cell_type": "code",
   "execution_count": null,
   "metadata": {
    "ExecuteTime": {
     "end_time": "2024-07-07T08:23:11.402813Z",
     "start_time": "2024-07-07T08:23:11.002691Z"
    }
   },
   "outputs": [],
   "source": [
    "# use seasonal features\n",
    "df['month'] = df.index.month\n",
    "df.groupby('month')['FG'].mean().plot(kind='bar')\n",
    "plt.show()\n",
    "\n",
    "# dayofweek\n",
    "df['dayofweek'] = df.index.dayofweek\n",
    "df.groupby('dayofweek')['RH'].mean().plot(kind='bar')\n",
    "plt.show()"
   ]
  },
  {
   "cell_type": "code",
   "execution_count": null,
   "metadata": {
    "ExecuteTime": {
     "end_time": "2024-07-07T08:23:11.941299Z",
     "start_time": "2024-07-07T08:23:11.938350Z"
    }
   },
   "outputs": [],
   "source": []
  },
  {
   "cell_type": "code",
   "execution_count": null,
   "metadata": {},
   "outputs": [],
   "source": []
  }
 ],
 "metadata": {
  "kernelspec": {
   "display_name": "Python 3 (ipykernel)",
   "language": "python",
   "name": "python3"
  },
  "language_info": {
   "codemirror_mode": {
    "name": "ipython",
    "version": 3
   },
   "file_extension": ".py",
   "mimetype": "text/x-python",
   "name": "python",
   "nbconvert_exporter": "python",
   "pygments_lexer": "ipython3",
   "version": "3.8.10"
  }
 },
 "nbformat": 4,
 "nbformat_minor": 4
}
