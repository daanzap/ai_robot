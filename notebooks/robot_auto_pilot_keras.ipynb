{
 "cells": [
  {
   "cell_type": "code",
   "execution_count": null,
   "metadata": {},
   "outputs": [],
   "source": []
  },
  {
   "cell_type": "markdown",
   "metadata": {},
   "source": [
    "# Keras Simple autopilot Demo Robot!"
   ]
  },
  {
   "cell_type": "code",
   "execution_count": null,
   "metadata": {
    "ExecuteTime": {
     "end_time": "2024-04-06T08:17:56.174217Z",
     "start_time": "2024-04-06T08:17:56.166285Z"
    }
   },
   "outputs": [],
   "source": [
    "# needed for matplotlib in jupyter notebook\n",
    "%matplotlib inline\n",
    "\n",
    "# import required modules\n",
    "import matplotlib.pyplot as plt\n",
    "import numpy as np\n",
    "from tensorflow import keras\n",
    "from tensorflow.keras.datasets import mnist\n",
    "from tensorflow.keras.models import Sequential\n",
    "from tensorflow.keras.layers import Dense, Dropout, Flatten, Input\n",
    "from tensorflow.keras.layers import Conv2D, MaxPooling2D\n",
    "from tensorflow.keras import backend as K\n",
    "import pandas as pd\n",
    "import os\n",
    "from ipyfilechooser import FileChooser\n"
   ]
  },
  {
   "cell_type": "code",
   "execution_count": null,
   "metadata": {},
   "outputs": [],
   "source": [
    "fc = FileChooser()\n",
    "display(fc)"
   ]
  },
  {
   "cell_type": "code",
   "execution_count": null,
   "metadata": {
    "ExecuteTime": {
     "end_time": "2024-04-06T08:18:24.416813Z",
     "start_time": "2024-04-06T08:18:01.524419Z"
    }
   },
   "outputs": [],
   "source": [
    "# prepare data\n",
    "data = pd.read_csv(fc.selected)\n",
    "data.shape\n",
    "label_movement = data.columns[0]\n",
    "data = data[data[label_movement] != 'all_stop']\n",
    "data = data[data[label_movement] != 'backward']\n",
    "data = data[data[label_movement] != 'ping']\n",
    "\n",
    "data_forward_length =  data[data[label_movement] == 'forward'].shape[0]\n",
    "data_random_forward = data[data[label_movement] == 'forward'].sample(n=int(data_forward_length*0.9))\n",
    "data.drop(data_random_forward.index,inplace=True)\n",
    "data[label_movement].value_counts().plot(kind='bar')\n",
    "plt.title('actions')\n",
    "plt.xlabel('Action')\n",
    "plt.ylabel('Count')\n",
    "\n",
    "image_size = 64\n",
    "\n",
    "data = data.sample(frac=1).reset_index(drop=True)\n",
    "\n"
   ]
  },
  {
   "cell_type": "code",
   "execution_count": null,
   "metadata": {},
   "outputs": [],
   "source": [
    "# split into training and test data (10% test data)\n",
    "data_test = data.sample(n=int(data.shape[0]/10))\n",
    "data.drop(data_test.index,inplace=True)\n",
    "\n",
    "#labels\n",
    "\n",
    "conv_labels = [0 if values == 'forward' else values for values in data[label_movement] ]\n",
    "conv_labels = [1 if values == 'turn_left' else values for values in conv_labels ]\n",
    "conv_labels = [2 if values == 'turn_right' else values for values in conv_labels ]\n",
    "\n",
    "labels = conv_labels\n",
    "\n",
    "#labels test \n",
    "conv_labels = [0 if values == 'forward' else values for values in data_test[label_movement] ]\n",
    "conv_labels = [1 if values == 'turn_left' else values for values in conv_labels ]\n",
    "conv_labels = [2 if values == 'turn_right' else values for values in conv_labels ]\n",
    "\n",
    "labels_test = conv_labels\n",
    "print(len(labels_test))\n",
    "print(len(labels))"
   ]
  },
  {
   "cell_type": "code",
   "execution_count": null,
   "metadata": {},
   "outputs": [],
   "source": [
    "# convert image data\n",
    "train = data.drop([ label_movement],axis=1).values\n",
    "test = data_test.drop([label_movement],axis=1).values\n",
    "\n",
    "train = train.reshape(train.shape[0],image_size,image_size,3)\n",
    "test = test.reshape(test.shape[0],image_size,image_size,3)\n",
    "print(train.shape)\n",
    "print(test.shape)\n",
    "for i in range(0,3):\n",
    "    plt.imshow(train[i])\n",
    "    plt.show()"
   ]
  },
  {
   "cell_type": "markdown",
   "metadata": {},
   "source": [
    "## Data preparation"
   ]
  },
  {
   "cell_type": "code",
   "execution_count": null,
   "metadata": {},
   "outputs": [],
   "source": [
    "# create a train and test set\n",
    "\n",
    "x_train = train.astype('float32') / 255\n",
    "x_test = test.astype('float32') / 255\n",
    "\n",
    "# convert classes to one-hot encoding\n",
    "num_classes = 3\n",
    "y_train = keras.utils.to_categorical(labels, num_classes)\n",
    "y_test = keras.utils.to_categorical(labels_test, num_classes)\n",
    "print(\"one-hot labels:\\n\", y_train[:3])\n"
   ]
  },
  {
   "cell_type": "markdown",
   "metadata": {},
   "source": [
    "## Training"
   ]
  },
  {
   "cell_type": "code",
   "execution_count": null,
   "metadata": {},
   "outputs": [],
   "source": [
    "# create model\n",
    "model = Sequential([\n",
    "    Input(shape=(image_size, image_size, 3)),\n",
    "    \n",
    "    Conv2D(128, 3, activation='relu'),\n",
    "    MaxPooling2D(),\n",
    "    Dropout(0.25),\n",
    "    Flatten(),\n",
    "    Dense(128, activation='relu'),\n",
    "    Dropout(0.5),\n",
    "    Dense(num_classes, activation='softmax')\n",
    "])\n",
    "\n",
    "# compile model\n",
    "model.compile(loss='categorical_crossentropy', optimizer=keras.optimizers.Adam(), metrics=['accuracy'])\n",
    "model.summary()"
   ]
  },
  {
   "cell_type": "code",
   "execution_count": null,
   "metadata": {},
   "outputs": [],
   "source": [
    "# fit model to training data\n",
    "model.fit(x_train, y_train, validation_split=0.2, epochs=10)"
   ]
  },
  {
   "cell_type": "markdown",
   "metadata": {},
   "source": [
    "## Evaluation"
   ]
  },
  {
   "cell_type": "code",
   "execution_count": null,
   "metadata": {},
   "outputs": [],
   "source": [
    "# evaluate model\n",
    "score = model.evaluate(x_test, y_test)\n",
    "print('Test accuracy:', score)"
   ]
  },
  {
   "cell_type": "code",
   "execution_count": null,
   "metadata": {},
   "outputs": [],
   "source": [
    "model.save(os.path.join('..', 'models', 'robot_model.keras'))\n"
   ]
  },
  {
   "cell_type": "code",
   "execution_count": null,
   "metadata": {},
   "outputs": [],
   "source": [
    "pred = model.predict(x_train[0:1000])\n",
    "print(pred.argmax(axis=-1))\n"
   ]
  },
  {
   "cell_type": "code",
   "execution_count": null,
   "metadata": {},
   "outputs": [],
   "source": []
  },
  {
   "cell_type": "code",
   "execution_count": null,
   "metadata": {},
   "outputs": [],
   "source": []
  }
 ],
 "metadata": {
  "kernelspec": {
   "display_name": "Python 3 (ipykernel)",
   "language": "python",
   "name": "python3"
  },
  "language_info": {
   "codemirror_mode": {
    "name": "ipython",
    "version": 3
   },
   "file_extension": ".py",
   "mimetype": "text/x-python",
   "name": "python",
   "nbconvert_exporter": "python",
   "pygments_lexer": "ipython3",
   "version": "3.8.10"
  }
 },
 "nbformat": 4,
 "nbformat_minor": 4
}
