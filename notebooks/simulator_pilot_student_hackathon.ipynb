{
 "cells": [
  {
   "cell_type": "code",
   "metadata": {},
   "source": [
    "import numpy as np\n",
    "import pandas as pd\n",
    "import matplotlib.pyplot as plt\n",
    "import os\n",
    "from ipyfilechooser import FileChooser\n",
    "from joblib import dump, load\n",
    "\n",
    "\n",
    "%matplotlib inline"
   ],
   "outputs": [],
   "execution_count": null
  },
  {
   "cell_type": "code",
   "metadata": {},
   "source": [
    "fc = FileChooser()\n",
    "display(fc)\n"
   ],
   "outputs": [],
   "execution_count": null
  },
  {
   "cell_type": "code",
   "metadata": {},
   "source": [
    "data = pd.read_csv(os.path.join('..', 'simulator', 'logs', fc.selected))\n",
    "data.describe()"
   ],
   "outputs": [],
   "execution_count": null
  },
  {
   "cell_type": "code",
   "metadata": {},
   "source": [
    "data.head()"
   ],
   "outputs": [],
   "execution_count": null
  },
  {
   "cell_type": "code",
   "metadata": {},
   "source": [
    "data.describe()"
   ],
   "outputs": [],
   "execution_count": null
  },
  {
   "cell_type": "code",
   "metadata": {},
   "source": [
    "label_movement = data.columns[0]\n",
    "\n",
    "data[label_movement].value_counts().plot(kind='bar')\n",
    "plt.title('actions')\n",
    "plt.xlabel('stop')\n",
    "plt.ylabel('Count')"
   ],
   "outputs": [],
   "execution_count": null
  },
  {
   "cell_type": "code",
   "metadata": {},
   "source": [
    "data_random_forward = data[data[label_movement] == 'forward'].sample(n=int(data.shape[0]/3))\n",
    "data.drop(data_random_forward.index,inplace=True)\n",
    "data[label_movement].value_counts().plot(kind='bar')\n",
    "plt.title('actions')\n",
    "plt.xlabel('action')\n",
    "plt.ylabel('Count')\n"
   ],
   "outputs": [],
   "execution_count": null
  },
  {
   "cell_type": "code",
   "metadata": {},
   "source": [
    "train1 = data.drop([label_movement],axis=1)"
   ],
   "outputs": [],
   "execution_count": null
  },
  {
   "cell_type": "code",
   "metadata": {},
   "source": [
    "train1.head()"
   ],
   "outputs": [],
   "execution_count": null
  },
  {
   "cell_type": "code",
   "metadata": {},
   "source": [
    "from sklearn.svm import SVC"
   ],
   "outputs": [],
   "execution_count": null
  },
  {
   "cell_type": "code",
   "metadata": {},
   "source": [
    "clf = SVC()"
   ],
   "outputs": [],
   "execution_count": null
  },
  {
   "cell_type": "code",
   "metadata": {},
   "source": [],
   "outputs": [],
   "execution_count": null
  },
  {
   "cell_type": "code",
   "metadata": {},
   "source": [
    "data = data.dropna()\n",
    "\n",
    "data_no_stop = data[data[label_movement] != 'stop']\n",
    "conv_labels = [0 if values == 'forward' else values for values in data_no_stop[label_movement] ]\n",
    "conv_labels = [1 if values == 'left' else values for values in conv_labels ]\n",
    "conv_labels = [2 if values == 'right' else values for values in conv_labels ]\n",
    "\n",
    "labels = conv_labels\n",
    "train1 = data_no_stop.drop([ label_movement],axis=1)\n",
    "data_no_stop.describe()\n"
   ],
   "outputs": [],
   "execution_count": null
  },
  {
   "cell_type": "code",
   "metadata": {},
   "source": [
    "from sklearn.model_selection import train_test_split"
   ],
   "outputs": [],
   "execution_count": null
  },
  {
   "cell_type": "code",
   "metadata": {},
   "source": [
    "x_train, x_test, y_train, y_test = train_test_split(train1, conv_labels, test_size = 0.10, random_state = 2)"
   ],
   "outputs": [],
   "execution_count": null
  },
  {
   "cell_type": "code",
   "metadata": {},
   "source": [
    "clf.fit(x_train,y_train)"
   ],
   "outputs": [],
   "execution_count": null
  },
  {
   "cell_type": "code",
   "metadata": {},
   "source": "clf.score(x_test, y_test)\n",
   "outputs": [],
   "execution_count": null
  },
  {
   "metadata": {},
   "cell_type": "code",
   "source": "dump(clf,os.path.join('..', 'models', 'auto_pilot.joblib'))\n",
   "outputs": [],
   "execution_count": null
  },
  {
   "cell_type": "code",
   "metadata": {},
   "source": [
    "from sklearn.pipeline import make_pipeline\n",
    "from sklearn.preprocessing import Normalizer\n",
    "\n",
    "model = make_pipeline(Normalizer(), SVC())\n",
    "model.fit(x_train,y_train)\n",
    "model.score(x_test, y_test)"
   ],
   "outputs": [],
   "execution_count": null
  },
  {
   "cell_type": "code",
   "metadata": {},
   "source": [
    "plt.scatter(y_test, clf.predict(x_test))"
   ],
   "outputs": [],
   "execution_count": null
  },
  {
   "cell_type": "code",
   "metadata": {},
   "source": [
    "from sklearn import ensemble\n",
    "clf = ensemble.GradientBoostingClassifier(n_estimators = 100, learning_rate = 0.1)"
   ],
   "outputs": [],
   "execution_count": null
  },
  {
   "cell_type": "code",
   "metadata": {},
   "source": [
    "clf.fit(x_train, y_train)"
   ],
   "outputs": [],
   "execution_count": null
  },
  {
   "cell_type": "code",
   "metadata": {},
   "source": [
    "clf.score(x_test, y_test)"
   ],
   "outputs": [],
   "execution_count": null
  },
  {
   "cell_type": "code",
   "metadata": {},
   "source": [
    "plt.scatter(y_test, clf.predict(x_test))"
   ],
   "outputs": [],
   "execution_count": null
  },
  {
   "cell_type": "code",
   "metadata": {},
   "source": "dump(clf,os.path.join('..', 'models', 'auto_pilot.joblib'))\n",
   "outputs": [],
   "execution_count": null
  },
  {
   "cell_type": "code",
   "metadata": {},
   "source": [
    "from sklearn.model_selection import GridSearchCV\n",
    "from sklearn import ensemble\n",
    "\n",
    "parameters = {\n",
    "    \"learning_rate\": [0.1, 0.01],\n",
    "    \"n_estimators\": [100, 200]\n",
    "}\n",
    "\n",
    "clf = GridSearchCV(ensemble.GradientBoostingClassifier(), parameters, cv=3, n_jobs=-1)\n",
    "\n",
    "clf.fit(x_train, y_train)\n",
    "print(clf.score(x_test, y_test))\n",
    "print(clf.best_params_)"
   ],
   "outputs": [],
   "execution_count": null
  },
  {
   "cell_type": "code",
   "metadata": {},
   "source": "dump(clf,os.path.join('..', 'models', 'auto_pilot.joblib'))",
   "outputs": [],
   "execution_count": null
  },
  {
   "cell_type": "code",
   "metadata": {},
   "source": [
    "from sklearn.model_selection import RandomizedSearchCV\n",
    "\n",
    "parameters = {\n",
    "    \"learning_rate\": np.linspace(0.1, 0.001, 10),\n",
    "    \"min_samples_split\": np.linspace(0.1, 0.5, 12),\n",
    "    \"min_samples_leaf\": np.linspace(0.1, 0.5, 12),\n",
    "    \"max_depth\": [3,5,8],\n",
    "    \"max_features\": [\"log2\",\"sqrt\"],\n",
    "    \"criterion\": [\"friedman_mse\",  \"mae\"],\n",
    "    \"subsample\": [0.5, 0.618, 0.8, 0.85, 0.9, 0.95, 1.0],\n",
    "    \"n_estimators\": [10, 20, 50, 100, 200]\n",
    "}\n",
    "\n",
    "clf = RandomizedSearchCV(ensemble.GradientBoostingClassifier(), parameters, cv=3, n_jobs=-1, n_iter=10)\n",
    "\n",
    "clf.fit(x_train, y_train)\n",
    "print(clf.score(x_test, y_test))\n",
    "print(clf.best_params_)"
   ],
   "outputs": [],
   "execution_count": null
  },
  {
   "cell_type": "code",
   "metadata": {},
   "source": "dump(clf,os.path.join('..', 'models', 'auto_pilot.joblib'))\n",
   "outputs": [],
   "execution_count": null
  },
  {
   "cell_type": "code",
   "metadata": {},
   "source": [],
   "outputs": [],
   "execution_count": null
  }
 ],
 "metadata": {
  "kernelspec": {
   "display_name": "Python 3 (ipykernel)",
   "language": "python",
   "name": "python3"
  },
  "language_info": {
   "codemirror_mode": {
    "name": "ipython",
    "version": 3
   },
   "file_extension": ".py",
   "mimetype": "text/x-python",
   "name": "python",
   "nbconvert_exporter": "python",
   "pygments_lexer": "ipython3",
   "version": "3.8.10"
  }
 },
 "nbformat": 4,
 "nbformat_minor": 4
}
