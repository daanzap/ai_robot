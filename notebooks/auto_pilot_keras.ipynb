{
 "cells": [
  {
   "cell_type": "code",
   "execution_count": null,
   "metadata": {},
   "outputs": [],
   "source": []
  },
  {
   "cell_type": "markdown",
   "metadata": {},
   "source": [
    "# Keras Simple autopilot Demo"
   ]
  },
  {
   "cell_type": "code",
   "execution_count": 4,
   "metadata": {},
   "outputs": [],
   "source": [
    "# needed for matplotlib in jupyter notebook\n",
    "%matplotlib inline\n",
    "\n",
    "# import required modules\n",
    "import matplotlib.pyplot as plt\n",
    "import numpy as np\n",
    "from tensorflow import keras\n",
    "from tensorflow.keras.datasets import mnist\n",
    "from tensorflow.keras.models import Sequential\n",
    "from tensorflow.keras.layers import Dense, Dropout, Flatten\n",
    "from tensorflow.keras.layers import Conv2D, MaxPooling2D\n",
    "from tensorflow.keras import backend as K\n",
    "import pandas as pd\n",
    "import os"
   ]
  },
  {
   "cell_type": "code",
   "execution_count": 27,
   "metadata": {},
   "outputs": [
    {
     "data": {
      "text/plain": [
       "Text(0, 0.5, 'Count')"
      ]
     },
     "execution_count": 27,
     "metadata": {},
     "output_type": "execute_result"
    },
    {
     "data": {
      "image/png": "[encoded data removed]",
      "text/plain": [
       "<Figure size 432x288 with 1 Axes>"
      ]
     },
     "metadata": {
      "needs_background": "light"
     },
     "output_type": "display_data"
    }
   ],
   "source": [
    "# prepare data\n",
    "data = pd.read_csv(os.path.join('..', 'simulator', 'logs', '20200903-101909.usablelog'))\n",
    "data.shape\n",
    "data = data[data.stop != 'stop']\n",
    "data_random_forward = data[data.stop == 'forward'].sample(n=int(data.shape[0]/2))\n",
    "data.drop(data_random_forward.index,inplace=True)\n",
    "data['stop'].value_counts().plot(kind='bar')\n",
    "plt.title('actions')\n",
    "plt.xlabel('stop')\n",
    "plt.ylabel('Count')\n",
    "\n",
    "\n",
    "\n"
   ]
  },
  {
   "cell_type": "code",
   "execution_count": 28,
   "metadata": {},
   "outputs": [
    {
     "name": "stdout",
     "output_type": "stream",
     "text": [
      "191\n",
      "1725\n"
     ]
    }
   ],
   "source": [
    "# split into training and test data (10% test data)\n",
    "data_test = data.sample(n=int(data.shape[0]/10))\n",
    "data.drop(data_test.index,inplace=True)\n",
    "\n",
    "#labels\n",
    "\n",
    "conv_labels = [0 if values == 'forward' else values for values in data.stop ]\n",
    "conv_labels = [1 if values == 'left' else values for values in conv_labels ]\n",
    "conv_labels = [2 if values == 'right' else values for values in conv_labels ]\n",
    "\n",
    "labels = conv_labels\n",
    "\n",
    "#labels test \n",
    "conv_labels = [0 if values == 'forward' else values for values in data_test.stop ]\n",
    "conv_labels = [1 if values == 'left' else values for values in conv_labels ]\n",
    "conv_labels = [2 if values == 'right' else values for values in conv_labels ]\n",
    "\n",
    "labels_test = conv_labels\n",
    "print(len(labels_test))\n",
    "print(len(labels))"
   ]
  },
  {
   "cell_type": "code",
   "execution_count": 29,
   "metadata": {},
   "outputs": [],
   "source": [
    "# convert image data\n",
    "train = data.drop([ 'stop'],axis=1).values\n",
    "test = data_test.drop([ 'stop'],axis=1).values\n",
    "\n",
    "train = train.reshape(train.shape[0],20,20,3)\n",
    "test = test.reshape(test.shape[0],20,20,3)"
   ]
  },
  {
   "cell_type": "markdown",
   "metadata": {},
   "source": [
    "## Data preparation"
   ]
  },
  {
   "cell_type": "code",
   "execution_count": 30,
   "metadata": {},
   "outputs": [
    {
     "name": "stdout",
     "output_type": "stream",
     "text": [
      "one-hot labels:\n",
      " [[1. 0. 0.]\n",
      " [1. 0. 0.]\n",
      " [1. 0. 0.]]\n"
     ]
    }
   ],
   "source": [
    "# create a smaller test set\n",
    "\n",
    "x_train = train.astype('float32') / 255\n",
    "x_test = test.astype('float32') / 255\n",
    "\n",
    "# convert classes to one-hot encoding\n",
    "num_classes = 3\n",
    "y_train = keras.utils.to_categorical(labels, num_classes)\n",
    "y_test = keras.utils.to_categorical(labels_test, num_classes)\n",
    "print(\"one-hot labels:\\n\", y_train[:3])\n"
   ]
  },
  {
   "cell_type": "markdown",
   "metadata": {},
   "source": [
    "## Training"
   ]
  },
  {
   "cell_type": "code",
   "execution_count": 31,
   "metadata": {},
   "outputs": [
    {
     "name": "stdout",
     "output_type": "stream",
     "text": [
      "Model: \"sequential_1\"\n",
      "_________________________________________________________________\n",
      "Layer (type)                 Output Shape              Param #   \n",
      "=================================================================\n",
      "conv2d_2 (Conv2D)            (None, 18, 18, 32)        896       \n",
      "_________________________________________________________________\n",
      "conv2d_3 (Conv2D)            (None, 16, 16, 128)       36992     \n",
      "_________________________________________________________________\n",
      "max_pooling2d_1 (MaxPooling2 (None, 8, 8, 128)         0         \n",
      "_________________________________________________________________\n",
      "dropout_2 (Dropout)          (None, 8, 8, 128)         0         \n",
      "_________________________________________________________________\n",
      "flatten_1 (Flatten)          (None, 8192)              0         \n",
      "_________________________________________________________________\n",
      "dense_2 (Dense)              (None, 128)               1048704   \n",
      "_________________________________________________________________\n",
      "dropout_3 (Dropout)          (None, 128)               0         \n",
      "_________________________________________________________________\n",
      "dense_3 (Dense)              (None, 3)                 387       \n",
      "=================================================================\n",
      "Total params: 1,086,979\n",
      "Trainable params: 1,086,979\n",
      "Non-trainable params: 0\n",
      "_________________________________________________________________\n"
     ]
    }
   ],
   "source": [
    "# create model\n",
    "model = Sequential([\n",
    "    Conv2D(32, 3, activation='relu', input_shape=(20, 20, 3)),\n",
    "    Conv2D(128, 3, activation='relu'),\n",
    "    MaxPooling2D(),\n",
    "    Dropout(0.25),\n",
    "    Flatten(),\n",
    "    Dense(128, activation='relu'),\n",
    "    Dropout(0.5),\n",
    "    Dense(num_classes, activation='softmax')\n",
    "])\n",
    "\n",
    "# compile model\n",
    "model.compile(loss='categorical_crossentropy', optimizer='adam', metrics=['accuracy'])\n",
    "model.summary()"
   ]
  },
  {
   "cell_type": "code",
   "execution_count": 32,
   "metadata": {},
   "outputs": [
    {
     "name": "stdout",
     "output_type": "stream",
     "text": [
      "Epoch 1/5\n",
      "44/44 [==============================] - 1s 19ms/step - loss: 1.0252 - accuracy: 0.4710 - val_loss: 0.9741 - val_accuracy: 0.5478\n",
      "Epoch 2/5\n",
      "44/44 [==============================] - 1s 16ms/step - loss: 0.9405 - accuracy: 0.5210 - val_loss: 1.0209 - val_accuracy: 0.5014\n",
      "Epoch 3/5\n",
      "44/44 [==============================] - 1s 18ms/step - loss: 0.9153 - accuracy: 0.5457 - val_loss: 1.0183 - val_accuracy: 0.5420\n",
      "Epoch 4/5\n",
      "44/44 [==============================] - 1s 17ms/step - loss: 0.8734 - accuracy: 0.5920 - val_loss: 1.0121 - val_accuracy: 0.5275\n",
      "Epoch 5/5\n",
      "44/44 [==============================] - 1s 16ms/step - loss: 0.8568 - accuracy: 0.5746 - val_loss: 1.0729 - val_accuracy: 0.5449\n"
     ]
    },
    {
     "data": {
      "text/plain": [
       "<tensorflow.python.keras.callbacks.History at 0x7f2cc028f0d0>"
      ]
     },
     "execution_count": 32,
     "metadata": {},
     "output_type": "execute_result"
    }
   ],
   "source": [
    "# fit model to training data\n",
    "model.fit(x_train, y_train, validation_split=0.2, epochs=5)"
   ]
  },
  {
   "cell_type": "markdown",
   "metadata": {},
   "source": [
    "## Evaluation"
   ]
  },
  {
   "cell_type": "code",
   "execution_count": 33,
   "metadata": {},
   "outputs": [
    {
     "name": "stdout",
     "output_type": "stream",
     "text": [
      "6/6 [==============================] - 0s 4ms/step - loss: 0.9222 - accuracy: 0.5550\n",
      "Test accuracy: [0.9221722483634949, 0.554973840713501]\n"
     ]
    }
   ],
   "source": [
    "# evaluate model\n",
    "score = model.evaluate(x_test, y_test)\n",
    "print('Test accuracy:', score)"
   ]
  },
  {
   "cell_type": "code",
   "execution_count": 34,
   "metadata": {},
   "outputs": [],
   "source": [
    "model.save(os.path.join('..', 'models', 'my-keras-model.h5'))"
   ]
  },
  {
   "cell_type": "code",
   "execution_count": null,
   "metadata": {},
   "outputs": [],
   "source": []
  }
 ],
 "metadata": {
  "kernelspec": {
   "display_name": "Python 3",
   "language": "python",
   "name": "python3"
  },
  "language_info": {
   "codemirror_mode": {
    "name": "ipython",
    "version": 3
   },
   "file_extension": ".py",
   "mimetype": "text/x-python",
   "name": "python",
   "nbconvert_exporter": "python",
   "pygments_lexer": "ipython3",
   "version": "3.8.2"
  }
 },
 "nbformat": 4,
 "nbformat_minor": 2
}
