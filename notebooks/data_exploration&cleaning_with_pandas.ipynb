{
 "cells": [
  {
   "cell_type": "markdown",
   "metadata": {},
   "source": [
    "### Import libraries"
   ]
  },
  {
   "cell_type": "code",
   "execution_count": 5,
   "metadata": {},
   "outputs": [],
   "source": [
    "%matplotlib inline\n",
    "\n",
    "# importing pandas and numpy\n",
    "import pandas as pd\n",
    "import numpy as np\n",
    "\n",
    "import matplotlib.pyplot as plt\n",
    "import os\n",
    "from ipyfilechooser import FileChooser\n"
   ]
  },
  {
   "cell_type": "markdown",
   "metadata": {},
   "source": [
    "### Import log file"
   ]
  },
  {
   "cell_type": "code",
   "execution_count": 6,
   "metadata": {},
   "outputs": [
    {
     "data": {
      "application/vnd.jupyter.widget-view+json": {
       "model_id": "5d2f1c71dd29416fbe197a15c1dbb4c3",
       "version_major": 2,
       "version_minor": 0
      },
      "text/plain": [
       "FileChooser(path='/home/daan/bitofpepper/ai_robot_new/ai_robot/notebooks', filename='', title='', show_hidden=…"
      ]
     },
     "metadata": {},
     "output_type": "display_data"
    }
   ],
   "source": [
    "fc = FileChooser()\n",
    "display(fc)"
   ]
  },
  {
   "cell_type": "code",
   "execution_count": 7,
   "metadata": {},
   "outputs": [
    {
     "name": "stdout",
     "output_type": "stream",
     "text": [
      "<class 'pandas.core.frame.DataFrame'>\n",
      "DatetimeIndex: 1589 entries, 2018-09-20 15:20:44.204882 to 2018-09-20 15:21:13.590816\n",
      "Data columns (total 9 columns):\n",
      " #   Column           Non-Null Count  Dtype  \n",
      "---  ------           --------------  -----  \n",
      " 0   angle_of_attack  1589 non-null   float64\n",
      " 1   boat_angle       1589 non-null   float64\n",
      " 2   boat_heel        1589 non-null   float64\n",
      " 3   boat_speed       1589 non-null   float64\n",
      " 4   course_error     1589 non-null   float64\n",
      " 5   rudder_angle     1589 non-null   float64\n",
      " 6   target_angle     1589 non-null   float64\n",
      " 7   wind_direction   1589 non-null   float64\n",
      " 8   wind_speed       1589 non-null   float64\n",
      "dtypes: float64(9)\n",
      "memory usage: 124.1 KB\n"
     ]
    }
   ],
   "source": [
    "# load logfile into a Pandas dataframe\n",
    "df = pd.read_csv(fc.selected,index_col='datetime', parse_dates=True).drop(['Unnamed: 0'], axis=1)\n",
    "\n",
    "df.info()"
   ]
  },
  {
   "cell_type": "markdown",
   "metadata": {},
   "source": [
    "* angle_of_attack: wind direction relative to the boat\n",
    "> * A positive angle of attack means the wind is blowing onto the right (starboard) side of the boat\n",
    "> * A negative angle of attack means the wind is blowing onto the left (port) side of the boat\n",
    "* boat_angle: compass direction in which the boat is going (North==0/360, East==90, South==180, West==270)\n",
    "* boat_heel: heeling angle in degrees (rotation around the longitudinal axis).\n",
    "* boat_speed: speed in knots (5 knots is 9.26 km per hr)\n",
    "* course_error: difference between boat_angle and target_angle\n",
    "* rudder_angle: position of the rudder relative to centerline of the boat\n",
    "* target_angle: compass direction in which you want to go\n",
    "* wind_direction: direction from where the wind is coming\n",
    "* wind_speed: wind speed in knots"
   ]
  },
  {
   "cell_type": "markdown",
   "metadata": {},
   "source": [
    "### Look at a sample of the dataset"
   ]
  },
  {
   "cell_type": "code",
   "execution_count": 10,
   "metadata": {},
   "outputs": [
    {
     "data": {
      "text/html": [
       "<div>\n",
       "<style scoped>\n",
       "    .dataframe tbody tr th:only-of-type {\n",
       "        vertical-align: middle;\n",
       "    }\n",
       "\n",
       "    .dataframe tbody tr th {\n",
       "        vertical-align: top;\n",
       "    }\n",
       "\n",
       "    .dataframe thead th {\n",
       "        text-align: right;\n",
       "    }\n",
       "</style>\n",
       "<table border=\"1\" class=\"dataframe\">\n",
       "  <thead>\n",
       "    <tr style=\"text-align: right;\">\n",
       "      <th></th>\n",
       "      <th>angle_of_attack</th>\n",
       "      <th>boat_angle</th>\n",
       "      <th>boat_heel</th>\n",
       "      <th>boat_speed</th>\n",
       "      <th>course_error</th>\n",
       "      <th>rudder_angle</th>\n",
       "      <th>target_angle</th>\n",
       "      <th>wind_direction</th>\n",
       "      <th>wind_speed</th>\n",
       "    </tr>\n",
       "    <tr>\n",
       "      <th>datetime</th>\n",
       "      <th></th>\n",
       "      <th></th>\n",
       "      <th></th>\n",
       "      <th></th>\n",
       "      <th></th>\n",
       "      <th></th>\n",
       "      <th></th>\n",
       "      <th></th>\n",
       "      <th></th>\n",
       "    </tr>\n",
       "  </thead>\n",
       "  <tbody>\n",
       "    <tr>\n",
       "      <th>2018-09-20 15:20:44.204882</th>\n",
       "      <td>-40.236386</td>\n",
       "      <td>359.896901</td>\n",
       "      <td>5.154972</td>\n",
       "      <td>2.099732</td>\n",
       "      <td>130.916042</td>\n",
       "      <td>0.000000</td>\n",
       "      <td>228.980859</td>\n",
       "      <td>319.660515</td>\n",
       "      <td>7.963619</td>\n",
       "    </tr>\n",
       "    <tr>\n",
       "      <th>2018-09-20 15:20:44.227630</th>\n",
       "      <td>-41.075512</td>\n",
       "      <td>359.799312</td>\n",
       "      <td>4.879416</td>\n",
       "      <td>2.042295</td>\n",
       "      <td>130.818453</td>\n",
       "      <td>0.000000</td>\n",
       "      <td>228.980859</td>\n",
       "      <td>318.723800</td>\n",
       "      <td>7.411740</td>\n",
       "    </tr>\n",
       "    <tr>\n",
       "      <th>2018-09-20 15:20:44.250254</th>\n",
       "      <td>-40.991465</td>\n",
       "      <td>359.695612</td>\n",
       "      <td>5.185008</td>\n",
       "      <td>2.107305</td>\n",
       "      <td>130.714753</td>\n",
       "      <td>0.000000</td>\n",
       "      <td>228.980859</td>\n",
       "      <td>318.704147</td>\n",
       "      <td>7.888204</td>\n",
       "    </tr>\n",
       "    <tr>\n",
       "      <th>2018-09-20 15:20:44.274456</th>\n",
       "      <td>-41.605111</td>\n",
       "      <td>359.601871</td>\n",
       "      <td>4.687066</td>\n",
       "      <td>2.002042</td>\n",
       "      <td>130.621012</td>\n",
       "      <td>0.000000</td>\n",
       "      <td>228.980859</td>\n",
       "      <td>317.996760</td>\n",
       "      <td>7.045938</td>\n",
       "    </tr>\n",
       "    <tr>\n",
       "      <th>2018-09-20 15:20:44.299476</th>\n",
       "      <td>-42.102651</td>\n",
       "      <td>359.508135</td>\n",
       "      <td>4.686779</td>\n",
       "      <td>2.002702</td>\n",
       "      <td>130.527276</td>\n",
       "      <td>0.000000</td>\n",
       "      <td>228.980859</td>\n",
       "      <td>317.405484</td>\n",
       "      <td>6.977760</td>\n",
       "    </tr>\n",
       "    <tr>\n",
       "      <th>...</th>\n",
       "      <td>...</td>\n",
       "      <td>...</td>\n",
       "      <td>...</td>\n",
       "      <td>...</td>\n",
       "      <td>...</td>\n",
       "      <td>...</td>\n",
       "      <td>...</td>\n",
       "      <td>...</td>\n",
       "      <td>...</td>\n",
       "    </tr>\n",
       "    <tr>\n",
       "      <th>2018-09-20 15:21:02.692107</th>\n",
       "      <td>17.063109</td>\n",
       "      <td>83.611922</td>\n",
       "      <td>7.252951</td>\n",
       "      <td>2.505493</td>\n",
       "      <td>5.797993</td>\n",
       "      <td>2.895946</td>\n",
       "      <td>77.813929</td>\n",
       "      <td>100.675031</td>\n",
       "      <td>24.516115</td>\n",
       "    </tr>\n",
       "    <tr>\n",
       "      <th>2018-09-20 15:21:02.710133</th>\n",
       "      <td>17.759491</td>\n",
       "      <td>83.613484</td>\n",
       "      <td>7.333886</td>\n",
       "      <td>2.523258</td>\n",
       "      <td>5.799555</td>\n",
       "      <td>2.898997</td>\n",
       "      <td>77.813929</td>\n",
       "      <td>101.372976</td>\n",
       "      <td>23.853209</td>\n",
       "    </tr>\n",
       "    <tr>\n",
       "      <th>2018-09-20 15:21:02.728030</th>\n",
       "      <td>17.705310</td>\n",
       "      <td>83.608452</td>\n",
       "      <td>7.063324</td>\n",
       "      <td>2.467410</td>\n",
       "      <td>5.794523</td>\n",
       "      <td>2.899778</td>\n",
       "      <td>77.813929</td>\n",
       "      <td>101.313763</td>\n",
       "      <td>23.047419</td>\n",
       "    </tr>\n",
       "    <tr>\n",
       "      <th>2018-09-20 15:21:02.745942</th>\n",
       "      <td>17.391187</td>\n",
       "      <td>83.598843</td>\n",
       "      <td>6.674484</td>\n",
       "      <td>2.386780</td>\n",
       "      <td>5.784914</td>\n",
       "      <td>2.897262</td>\n",
       "      <td>77.813929</td>\n",
       "      <td>100.990030</td>\n",
       "      <td>22.165784</td>\n",
       "    </tr>\n",
       "    <tr>\n",
       "      <th>2018-09-20 15:21:02.764605</th>\n",
       "      <td>18.108765</td>\n",
       "      <td>83.594734</td>\n",
       "      <td>6.709677</td>\n",
       "      <td>2.395032</td>\n",
       "      <td>5.780805</td>\n",
       "      <td>2.892457</td>\n",
       "      <td>77.813929</td>\n",
       "      <td>101.703499</td>\n",
       "      <td>21.433445</td>\n",
       "    </tr>\n",
       "  </tbody>\n",
       "</table>\n",
       "<p>1000 rows × 9 columns</p>\n",
       "</div>"
      ],
      "text/plain": [
       "                            angle_of_attack  boat_angle  boat_heel  \\\n",
       "datetime                                                             \n",
       "2018-09-20 15:20:44.204882       -40.236386  359.896901   5.154972   \n",
       "2018-09-20 15:20:44.227630       -41.075512  359.799312   4.879416   \n",
       "2018-09-20 15:20:44.250254       -40.991465  359.695612   5.185008   \n",
       "2018-09-20 15:20:44.274456       -41.605111  359.601871   4.687066   \n",
       "2018-09-20 15:20:44.299476       -42.102651  359.508135   4.686779   \n",
       "...                                     ...         ...        ...   \n",
       "2018-09-20 15:21:02.692107        17.063109   83.611922   7.252951   \n",
       "2018-09-20 15:21:02.710133        17.759491   83.613484   7.333886   \n",
       "2018-09-20 15:21:02.728030        17.705310   83.608452   7.063324   \n",
       "2018-09-20 15:21:02.745942        17.391187   83.598843   6.674484   \n",
       "2018-09-20 15:21:02.764605        18.108765   83.594734   6.709677   \n",
       "\n",
       "                            boat_speed  course_error  rudder_angle  \\\n",
       "datetime                                                             \n",
       "2018-09-20 15:20:44.204882    2.099732    130.916042      0.000000   \n",
       "2018-09-20 15:20:44.227630    2.042295    130.818453      0.000000   \n",
       "2018-09-20 15:20:44.250254    2.107305    130.714753      0.000000   \n",
       "2018-09-20 15:20:44.274456    2.002042    130.621012      0.000000   \n",
       "2018-09-20 15:20:44.299476    2.002702    130.527276      0.000000   \n",
       "...                                ...           ...           ...   \n",
       "2018-09-20 15:21:02.692107    2.505493      5.797993      2.895946   \n",
       "2018-09-20 15:21:02.710133    2.523258      5.799555      2.898997   \n",
       "2018-09-20 15:21:02.728030    2.467410      5.794523      2.899778   \n",
       "2018-09-20 15:21:02.745942    2.386780      5.784914      2.897262   \n",
       "2018-09-20 15:21:02.764605    2.395032      5.780805      2.892457   \n",
       "\n",
       "                            target_angle  wind_direction  wind_speed  \n",
       "datetime                                                              \n",
       "2018-09-20 15:20:44.204882    228.980859      319.660515    7.963619  \n",
       "2018-09-20 15:20:44.227630    228.980859      318.723800    7.411740  \n",
       "2018-09-20 15:20:44.250254    228.980859      318.704147    7.888204  \n",
       "2018-09-20 15:20:44.274456    228.980859      317.996760    7.045938  \n",
       "2018-09-20 15:20:44.299476    228.980859      317.405484    6.977760  \n",
       "...                                  ...             ...         ...  \n",
       "2018-09-20 15:21:02.692107     77.813929      100.675031   24.516115  \n",
       "2018-09-20 15:21:02.710133     77.813929      101.372976   23.853209  \n",
       "2018-09-20 15:21:02.728030     77.813929      101.313763   23.047419  \n",
       "2018-09-20 15:21:02.745942     77.813929      100.990030   22.165784  \n",
       "2018-09-20 15:21:02.764605     77.813929      101.703499   21.433445  \n",
       "\n",
       "[1000 rows x 9 columns]"
      ]
     },
     "execution_count": 10,
     "metadata": {},
     "output_type": "execute_result"
    }
   ],
   "source": [
    "# Print the first 5 rows of the dataframe\n",
    "# YOUR CODE HERE\n",
    "df[0:10000]"
   ]
  },
  {
   "cell_type": "code",
   "execution_count": null,
   "metadata": {},
   "outputs": [],
   "source": [
    "# Print the last 5 rows of the dataframe\n",
    "# YOUR CODE HERE\n"
   ]
  },
  {
   "cell_type": "code",
   "execution_count": null,
   "metadata": {},
   "outputs": [],
   "source": [
    "# If you want you can look at more rows or try different slices\n",
    "# YOUR CODE HERE"
   ]
  },
  {
   "cell_type": "markdown",
   "metadata": {},
   "source": [
    "### Plotting the columns\n",
    "First we will have a visual look at the data."
   ]
  },
  {
   "cell_type": "code",
   "execution_count": null,
   "metadata": {},
   "outputs": [],
   "source": [
    "# Put the column names in a list named 'columns'\n",
    "columns = # YOUR CODE HERE"
   ]
  },
  {
   "cell_type": "code",
   "execution_count": null,
   "metadata": {},
   "outputs": [],
   "source": [
    "# Plot the data (this can take a few seconds)\n",
    "for column in columns:\n",
    "    _, ax = plt.subplots(figsize=(20, 10))\n",
    "    ax.set_title(column)\n",
    "    df[column].plot(ax=ax)\n",
    "    plt.grid(True)"
   ]
  },
  {
   "cell_type": "markdown",
   "metadata": {},
   "source": [
    "## Zoom in on column rudder_angle (and clip it's maximum value)\n",
    "Our AI Captain would like to control the rudder angle of the boat. Let's zoom in on this column in the dataset"
   ]
  },
  {
   "cell_type": "code",
   "execution_count": null,
   "metadata": {},
   "outputs": [],
   "source": [
    "# Plot the rudder_angle\n",
    "_, ax = plt.subplots(figsize=(20, 10))\n",
    "df['rudder_angle'].plot(ax=ax)\n",
    "plt.grid(True)"
   ]
  },
  {
   "cell_type": "code",
   "execution_count": null,
   "metadata": {},
   "outputs": [],
   "source": [
    "# Select an interval of 1000 rows (these are 1000 datapoints) of df and put it in a new dataframe called 'selection_1k'\n",
    "selection_1k = # YOUR CODE HERE\n",
    "\n",
    "# Select an interval of 10,000 rows of df and put it in a new dataframe called 'selection_10k'\n",
    "selection_10k = # YOUR CODE HERE"
   ]
  },
  {
   "cell_type": "code",
   "execution_count": null,
   "metadata": {},
   "outputs": [],
   "source": [
    "# plot the rudder_angle for selection_1k and for selection_10k\n",
    "# YOUR CODE HERE"
   ]
  },
  {
   "cell_type": "code",
   "execution_count": null,
   "metadata": {},
   "outputs": [],
   "source": [
    "# Find the maximum and minimum values for rudder_angle in the entire dataset\n",
    "# YOUR CODE HERE"
   ]
  },
  {
   "cell_type": "code",
   "execution_count": null,
   "metadata": {},
   "outputs": [],
   "source": [
    "# Clip rudder_angle to [-20, 20]; i.e. set angles > 20 to 20 & angles < -20 to -20\n",
    "df[\"rudder_angle\"] = # YOUR CODE HERE"
   ]
  },
  {
   "cell_type": "code",
   "execution_count": null,
   "metadata": {},
   "outputs": [],
   "source": [
    "# Look at the result of what you just did\n",
    "_, ax = plt.subplots(figsize=(20, 10))\n",
    "df[(df.index.hour == 9) & (df.index.minute == 21)]['rudder_angle'].plot(ax=ax)\n",
    "plt.grid(True)"
   ]
  },
  {
   "cell_type": "markdown",
   "metadata": {},
   "source": [
    "### Boat_speed (noisy signal)"
   ]
  },
  {
   "cell_type": "code",
   "execution_count": null,
   "metadata": {},
   "outputs": [],
   "source": [
    "# Plot boat_speed of your selection_10k\n",
    "# YOUR CODE HERE"
   ]
  },
  {
   "cell_type": "code",
   "execution_count": null,
   "metadata": {},
   "outputs": [],
   "source": [
    "# Plot boat_speed of your selection_10k again, this time with a rolling window calculation with rolling(20).mean()\n",
    "# YOUR CODE HERE"
   ]
  },
  {
   "cell_type": "markdown",
   "metadata": {},
   "source": [
    "### Removing outliers from wind_speed"
   ]
  },
  {
   "cell_type": "code",
   "execution_count": null,
   "metadata": {},
   "outputs": [],
   "source": [
    "# Maybe you noticed that the graph of wind_speed looked quite messy\n",
    "# Plot the wind_speed for you selection_10k\n",
    "# YOUR CODE HERE"
   ]
  },
  {
   "cell_type": "code",
   "execution_count": null,
   "metadata": {},
   "outputs": [],
   "source": [
    "# The big wind_speed values are not realistic. We will define wind_speed's above 35 knots as outliers\n",
    "# Replace outliers in wind_speed with np.nan (use mask)\n",
    "df[\"wind_speed\"] = YOUR CODE HERE"
   ]
  },
  {
   "cell_type": "code",
   "execution_count": null,
   "metadata": {},
   "outputs": [],
   "source": [
    "_, ax = plt.subplots(figsize=(20, 10))\n",
    "df.iloc[0:1000]['wind_speed'].plot(ax=ax)\n",
    "plt.grid(True)"
   ]
  },
  {
   "cell_type": "markdown",
   "metadata": {},
   "source": [
    "### Removing NA's"
   ]
  },
  {
   "cell_type": "code",
   "execution_count": null,
   "metadata": {},
   "outputs": [],
   "source": [
    "# Find the columns that contain NA's\n",
    "# YOUR CODE HERE\n",
    "df.isna().sum()"
   ]
  },
  {
   "cell_type": "code",
   "execution_count": null,
   "metadata": {},
   "outputs": [],
   "source": [
    "# Replace the NA's in each column with the last valid observation\n",
    "# Can you think of a reason why this makes more sense here then replace with mean value?\n",
    "# YOUR CODE HERE"
   ]
  },
  {
   "cell_type": "code",
   "execution_count": null,
   "metadata": {},
   "outputs": [],
   "source": [
    "df.isna().sum().sum()\n",
    "# This should show 0"
   ]
  },
  {
   "cell_type": "markdown",
   "metadata": {},
   "source": [
    "### Creating a new feature\n",
    "You can create your own features based on the existing columns.\n",
    "In sailing VMG is used a lot.\n",
    "VMG stands for Velocity Made Good and is defined as the the velocity component in the directing where you want to be going.\n",
    "Maybe this feature will help our machine learning algorithm."
   ]
  },
  {
   "cell_type": "code",
   "execution_count": null,
   "metadata": {},
   "outputs": [],
   "source": [
    "df['VMG'] = df.boat_speed*np.cos(np.deg2rad(df.course_error))\n",
    "\n",
    "df = df[['wind_speed', 'wind_direction',\n",
    "         'angle_of_attack', 'boat_heel',\n",
    "         'boat_speed', 'VMG',\n",
    "         'target_angle', 'boat_angle', 'course_error',\n",
    "         'rudder_angle']]"
   ]
  },
  {
   "cell_type": "code",
   "execution_count": null,
   "metadata": {},
   "outputs": [],
   "source": [
    "_, ax = plt.subplots(figsize=(20, 10))\n",
    "df.iloc[0:1000].boat_speed.plot(ax=ax)\n",
    "df.iloc[0:1000].VMG.plot(ax=ax)\n",
    "plt.legend()"
   ]
  },
  {
   "cell_type": "markdown",
   "metadata": {},
   "source": [
    "### Plotting correlation matrix"
   ]
  },
  {
   "cell_type": "code",
   "execution_count": null,
   "metadata": {},
   "outputs": [],
   "source": [
    "# Plot the correlation matrix of the dataframe\n",
    "# YOUR CODE HERE\n",
    "corr = df.corr()\n",
    "corr.style.background_gradient()"
   ]
  },
  {
   "cell_type": "code",
   "execution_count": null,
   "metadata": {},
   "outputs": [],
   "source": [
    "_, ax = plt.subplots(figsize=(20, 10))\n",
    "df.iloc[0:1000].plot(ax=ax)\n",
    "plt.legend()"
   ]
  },
  {
   "cell_type": "markdown",
   "metadata": {},
   "source": [
    "Notice that the range of the values can differ quite a lot per column"
   ]
  },
  {
   "cell_type": "markdown",
   "metadata": {},
   "source": [
    "### What did you learn?\n",
    "In this notebook you have:\n",
    "* Clipped the values of rudder_angle to [-20, 20]\n",
    "* Used rolling mean to vizualize boat speed signal\n",
    "* Replaced outliers in wind_speed\n",
    "* Replaced NA's in boat_heel and target_angle\n",
    "* Added a new feature\n",
    "* Looked at the correlation matrix"
   ]
  },
  {
   "cell_type": "code",
   "execution_count": null,
   "metadata": {},
   "outputs": [],
   "source": [
    "# Save df to pickle\n",
    "df.to_pickle('data_clean.pkl')"
   ]
  }
 ],
 "metadata": {
  "kernelspec": {
   "display_name": "Python 3 (ipykernel)",
   "language": "python",
   "name": "python3"
  },
  "language_info": {
   "codemirror_mode": {
    "name": "ipython",
    "version": 3
   },
   "file_extension": ".py",
   "mimetype": "text/x-python",
   "name": "python",
   "nbconvert_exporter": "python",
   "pygments_lexer": "ipython3",
   "version": "3.8.10"
  }
 },
 "nbformat": 4,
 "nbformat_minor": 4
}
