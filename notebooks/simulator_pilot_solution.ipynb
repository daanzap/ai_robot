{
 "cells": [
  {
   "cell_type": "code",
   "metadata": {
    "ExecuteTime": {
     "end_time": "2025-03-28T09:03:19.854356Z",
     "start_time": "2025-03-28T09:03:18.961595Z"
    }
   },
   "source": [
    "import numpy as np\n",
    "import pandas as pd\n",
    "import matplotlib.pyplot as plt\n",
    "import os\n",
    "from ipyfilechooser import FileChooser\n",
    "from joblib import dump, load\n",
    "\n",
    "\n",
    "%matplotlib inline"
   ],
   "outputs": [],
   "execution_count": 1
  },
  {
   "cell_type": "code",
   "metadata": {
    "ExecuteTime": {
     "end_time": "2025-03-28T09:03:20.048994Z",
     "start_time": "2025-03-28T09:03:19.960944Z"
    }
   },
   "source": [
    "fc = FileChooser()\n",
    "display(fc)\n"
   ],
   "outputs": [
    {
     "data": {
      "text/plain": [
       "FileChooser(path='/home/daan/bitofpepper/ai_robot_new/ai_robot/notebooks', filename='', title='', show_hidden=…"
      ],
      "application/vnd.jupyter.widget-view+json": {
       "version_major": 2,
       "version_minor": 0,
       "model_id": "6754e8e330f345e6a90ba6250a6fa5b2"
      }
     },
     "metadata": {},
     "output_type": "display_data"
    }
   ],
   "execution_count": 2
  },
  {
   "cell_type": "code",
   "metadata": {
    "ExecuteTime": {
     "end_time": "2025-03-28T09:03:37.420381Z",
     "start_time": "2025-03-28T09:03:35.298233Z"
    }
   },
   "source": [
    "data = pd.read_csv(os.path.join('..', 'simulator', 'logs', fc.selected))\n",
    "data.describe()"
   ],
   "outputs": [
    {
     "data": {
      "text/plain": [
       "               255        255.1        255.2        255.3        255.4  \\\n",
       "count  3928.000000  3928.000000  3928.000000  3928.000000  3928.000000   \n",
       "mean    231.342413   231.342413   231.342413   232.026222   232.026222   \n",
       "std      59.119657    59.119657    59.119657    59.053049    59.053049   \n",
       "min      70.000000    70.000000    70.000000    70.000000    70.000000   \n",
       "25%     255.000000   255.000000   255.000000   255.000000   255.000000   \n",
       "50%     255.000000   255.000000   255.000000   255.000000   255.000000   \n",
       "75%     255.000000   255.000000   255.000000   255.000000   255.000000   \n",
       "max     255.000000   255.000000   255.000000   255.000000   255.000000   \n",
       "\n",
       "             255.5        255.6        255.7        255.8        255.9  ...  \\\n",
       "count  3928.000000  3928.000000  3928.000000  3928.000000  3928.000000  ...   \n",
       "mean    232.026222   227.356415   227.356415   227.356415   226.266293  ...   \n",
       "std      59.053049    64.462371    64.462371    64.462371    66.051618  ...   \n",
       "min      70.000000    70.000000    70.000000    70.000000    70.000000  ...   \n",
       "25%     255.000000   255.000000   255.000000   255.000000   255.000000  ...   \n",
       "50%     255.000000   255.000000   255.000000   255.000000   255.000000  ...   \n",
       "75%     255.000000   255.000000   255.000000   255.000000   255.000000  ...   \n",
       "max     255.000000   255.000000   255.000000   255.000000   255.000000  ...   \n",
       "\n",
       "           255.653      255.654      255.655      255.656      255.657  \\\n",
       "count  3928.000000  3928.000000  3928.000000  3928.000000  3928.000000   \n",
       "mean    214.803208   209.835794   209.835794   209.835794   202.944501   \n",
       "std      75.268102    78.630610    78.630610    78.630610    82.249854   \n",
       "min      70.000000    70.000000    70.000000    70.000000    70.000000   \n",
       "25%     255.000000   202.500000   202.500000   202.500000    70.000000   \n",
       "50%     255.000000   255.000000   255.000000   255.000000   255.000000   \n",
       "75%     255.000000   255.000000   255.000000   255.000000   255.000000   \n",
       "max     255.000000   255.000000   255.000000   255.000000   255.000000   \n",
       "\n",
       "           255.658      255.659      255.660      255.661      255.662  \n",
       "count  3928.000000  3928.000000  3928.000000  3928.000000  3928.000000  \n",
       "mean    202.944501   202.944501   197.380855   197.380855   197.380855  \n",
       "std      82.249854    82.249854    84.818205    84.818205    84.818205  \n",
       "min      70.000000    70.000000    70.000000    70.000000    70.000000  \n",
       "25%      70.000000    70.000000    70.000000    70.000000    70.000000  \n",
       "50%     255.000000   255.000000   255.000000   255.000000   255.000000  \n",
       "75%     255.000000   255.000000   255.000000   255.000000   255.000000  \n",
       "max     255.000000   255.000000   255.000000   255.000000   255.000000  \n",
       "\n",
       "[8 rows x 1200 columns]"
      ],
      "text/html": [
       "<div>\n",
       "<style scoped>\n",
       "    .dataframe tbody tr th:only-of-type {\n",
       "        vertical-align: middle;\n",
       "    }\n",
       "\n",
       "    .dataframe tbody tr th {\n",
       "        vertical-align: top;\n",
       "    }\n",
       "\n",
       "    .dataframe thead th {\n",
       "        text-align: right;\n",
       "    }\n",
       "</style>\n",
       "<table border=\"1\" class=\"dataframe\">\n",
       "  <thead>\n",
       "    <tr style=\"text-align: right;\">\n",
       "      <th></th>\n",
       "      <th>255</th>\n",
       "      <th>255.1</th>\n",
       "      <th>255.2</th>\n",
       "      <th>255.3</th>\n",
       "      <th>255.4</th>\n",
       "      <th>255.5</th>\n",
       "      <th>255.6</th>\n",
       "      <th>255.7</th>\n",
       "      <th>255.8</th>\n",
       "      <th>255.9</th>\n",
       "      <th>...</th>\n",
       "      <th>255.653</th>\n",
       "      <th>255.654</th>\n",
       "      <th>255.655</th>\n",
       "      <th>255.656</th>\n",
       "      <th>255.657</th>\n",
       "      <th>255.658</th>\n",
       "      <th>255.659</th>\n",
       "      <th>255.660</th>\n",
       "      <th>255.661</th>\n",
       "      <th>255.662</th>\n",
       "    </tr>\n",
       "  </thead>\n",
       "  <tbody>\n",
       "    <tr>\n",
       "      <th>count</th>\n",
       "      <td>3928.000000</td>\n",
       "      <td>3928.000000</td>\n",
       "      <td>3928.000000</td>\n",
       "      <td>3928.000000</td>\n",
       "      <td>3928.000000</td>\n",
       "      <td>3928.000000</td>\n",
       "      <td>3928.000000</td>\n",
       "      <td>3928.000000</td>\n",
       "      <td>3928.000000</td>\n",
       "      <td>3928.000000</td>\n",
       "      <td>...</td>\n",
       "      <td>3928.000000</td>\n",
       "      <td>3928.000000</td>\n",
       "      <td>3928.000000</td>\n",
       "      <td>3928.000000</td>\n",
       "      <td>3928.000000</td>\n",
       "      <td>3928.000000</td>\n",
       "      <td>3928.000000</td>\n",
       "      <td>3928.000000</td>\n",
       "      <td>3928.000000</td>\n",
       "      <td>3928.000000</td>\n",
       "    </tr>\n",
       "    <tr>\n",
       "      <th>mean</th>\n",
       "      <td>231.342413</td>\n",
       "      <td>231.342413</td>\n",
       "      <td>231.342413</td>\n",
       "      <td>232.026222</td>\n",
       "      <td>232.026222</td>\n",
       "      <td>232.026222</td>\n",
       "      <td>227.356415</td>\n",
       "      <td>227.356415</td>\n",
       "      <td>227.356415</td>\n",
       "      <td>226.266293</td>\n",
       "      <td>...</td>\n",
       "      <td>214.803208</td>\n",
       "      <td>209.835794</td>\n",
       "      <td>209.835794</td>\n",
       "      <td>209.835794</td>\n",
       "      <td>202.944501</td>\n",
       "      <td>202.944501</td>\n",
       "      <td>202.944501</td>\n",
       "      <td>197.380855</td>\n",
       "      <td>197.380855</td>\n",
       "      <td>197.380855</td>\n",
       "    </tr>\n",
       "    <tr>\n",
       "      <th>std</th>\n",
       "      <td>59.119657</td>\n",
       "      <td>59.119657</td>\n",
       "      <td>59.119657</td>\n",
       "      <td>59.053049</td>\n",
       "      <td>59.053049</td>\n",
       "      <td>59.053049</td>\n",
       "      <td>64.462371</td>\n",
       "      <td>64.462371</td>\n",
       "      <td>64.462371</td>\n",
       "      <td>66.051618</td>\n",
       "      <td>...</td>\n",
       "      <td>75.268102</td>\n",
       "      <td>78.630610</td>\n",
       "      <td>78.630610</td>\n",
       "      <td>78.630610</td>\n",
       "      <td>82.249854</td>\n",
       "      <td>82.249854</td>\n",
       "      <td>82.249854</td>\n",
       "      <td>84.818205</td>\n",
       "      <td>84.818205</td>\n",
       "      <td>84.818205</td>\n",
       "    </tr>\n",
       "    <tr>\n",
       "      <th>min</th>\n",
       "      <td>70.000000</td>\n",
       "      <td>70.000000</td>\n",
       "      <td>70.000000</td>\n",
       "      <td>70.000000</td>\n",
       "      <td>70.000000</td>\n",
       "      <td>70.000000</td>\n",
       "      <td>70.000000</td>\n",
       "      <td>70.000000</td>\n",
       "      <td>70.000000</td>\n",
       "      <td>70.000000</td>\n",
       "      <td>...</td>\n",
       "      <td>70.000000</td>\n",
       "      <td>70.000000</td>\n",
       "      <td>70.000000</td>\n",
       "      <td>70.000000</td>\n",
       "      <td>70.000000</td>\n",
       "      <td>70.000000</td>\n",
       "      <td>70.000000</td>\n",
       "      <td>70.000000</td>\n",
       "      <td>70.000000</td>\n",
       "      <td>70.000000</td>\n",
       "    </tr>\n",
       "    <tr>\n",
       "      <th>25%</th>\n",
       "      <td>255.000000</td>\n",
       "      <td>255.000000</td>\n",
       "      <td>255.000000</td>\n",
       "      <td>255.000000</td>\n",
       "      <td>255.000000</td>\n",
       "      <td>255.000000</td>\n",
       "      <td>255.000000</td>\n",
       "      <td>255.000000</td>\n",
       "      <td>255.000000</td>\n",
       "      <td>255.000000</td>\n",
       "      <td>...</td>\n",
       "      <td>255.000000</td>\n",
       "      <td>202.500000</td>\n",
       "      <td>202.500000</td>\n",
       "      <td>202.500000</td>\n",
       "      <td>70.000000</td>\n",
       "      <td>70.000000</td>\n",
       "      <td>70.000000</td>\n",
       "      <td>70.000000</td>\n",
       "      <td>70.000000</td>\n",
       "      <td>70.000000</td>\n",
       "    </tr>\n",
       "    <tr>\n",
       "      <th>50%</th>\n",
       "      <td>255.000000</td>\n",
       "      <td>255.000000</td>\n",
       "      <td>255.000000</td>\n",
       "      <td>255.000000</td>\n",
       "      <td>255.000000</td>\n",
       "      <td>255.000000</td>\n",
       "      <td>255.000000</td>\n",
       "      <td>255.000000</td>\n",
       "      <td>255.000000</td>\n",
       "      <td>255.000000</td>\n",
       "      <td>...</td>\n",
       "      <td>255.000000</td>\n",
       "      <td>255.000000</td>\n",
       "      <td>255.000000</td>\n",
       "      <td>255.000000</td>\n",
       "      <td>255.000000</td>\n",
       "      <td>255.000000</td>\n",
       "      <td>255.000000</td>\n",
       "      <td>255.000000</td>\n",
       "      <td>255.000000</td>\n",
       "      <td>255.000000</td>\n",
       "    </tr>\n",
       "    <tr>\n",
       "      <th>75%</th>\n",
       "      <td>255.000000</td>\n",
       "      <td>255.000000</td>\n",
       "      <td>255.000000</td>\n",
       "      <td>255.000000</td>\n",
       "      <td>255.000000</td>\n",
       "      <td>255.000000</td>\n",
       "      <td>255.000000</td>\n",
       "      <td>255.000000</td>\n",
       "      <td>255.000000</td>\n",
       "      <td>255.000000</td>\n",
       "      <td>...</td>\n",
       "      <td>255.000000</td>\n",
       "      <td>255.000000</td>\n",
       "      <td>255.000000</td>\n",
       "      <td>255.000000</td>\n",
       "      <td>255.000000</td>\n",
       "      <td>255.000000</td>\n",
       "      <td>255.000000</td>\n",
       "      <td>255.000000</td>\n",
       "      <td>255.000000</td>\n",
       "      <td>255.000000</td>\n",
       "    </tr>\n",
       "    <tr>\n",
       "      <th>max</th>\n",
       "      <td>255.000000</td>\n",
       "      <td>255.000000</td>\n",
       "      <td>255.000000</td>\n",
       "      <td>255.000000</td>\n",
       "      <td>255.000000</td>\n",
       "      <td>255.000000</td>\n",
       "      <td>255.000000</td>\n",
       "      <td>255.000000</td>\n",
       "      <td>255.000000</td>\n",
       "      <td>255.000000</td>\n",
       "      <td>...</td>\n",
       "      <td>255.000000</td>\n",
       "      <td>255.000000</td>\n",
       "      <td>255.000000</td>\n",
       "      <td>255.000000</td>\n",
       "      <td>255.000000</td>\n",
       "      <td>255.000000</td>\n",
       "      <td>255.000000</td>\n",
       "      <td>255.000000</td>\n",
       "      <td>255.000000</td>\n",
       "      <td>255.000000</td>\n",
       "    </tr>\n",
       "  </tbody>\n",
       "</table>\n",
       "<p>8 rows × 1200 columns</p>\n",
       "</div>"
      ]
     },
     "execution_count": 3,
     "metadata": {},
     "output_type": "execute_result"
    }
   ],
   "execution_count": 3
  },
  {
   "cell_type": "code",
   "metadata": {
    "ExecuteTime": {
     "end_time": "2025-03-28T09:03:39.827259Z",
     "start_time": "2025-03-28T09:03:39.807405Z"
    }
   },
   "source": [
    "data.head()"
   ],
   "outputs": [
    {
     "data": {
      "text/plain": [
       "   stop  255  255.1  255.2  255.3  255.4  255.5  255.6  255.7  255.8  ...  \\\n",
       "0  stop  255    255    255    255    255    255    255    255    255  ...   \n",
       "1  stop  255    255    255    255    255    255    255    255    255  ...   \n",
       "2  stop  255    255    255    255    255    255    255    255    255  ...   \n",
       "3  stop  255    255    255    255    255    255    255    255    255  ...   \n",
       "4  stop  255    255    255    255    255    255    255    255    255  ...   \n",
       "\n",
       "   255.653  255.654  255.655  255.656  255.657  255.658  255.659  255.660  \\\n",
       "0      255      255      255      255      255      255      255      255   \n",
       "1      255      255      255      255      255      255      255      255   \n",
       "2      255      255      255      255      255      255      255      255   \n",
       "3      255      255      255      255      255      255      255      255   \n",
       "4      255      255      255      255      255      255      255      255   \n",
       "\n",
       "   255.661  255.662  \n",
       "0      255      255  \n",
       "1      255      255  \n",
       "2      255      255  \n",
       "3      255      255  \n",
       "4      255      255  \n",
       "\n",
       "[5 rows x 1201 columns]"
      ],
      "text/html": [
       "<div>\n",
       "<style scoped>\n",
       "    .dataframe tbody tr th:only-of-type {\n",
       "        vertical-align: middle;\n",
       "    }\n",
       "\n",
       "    .dataframe tbody tr th {\n",
       "        vertical-align: top;\n",
       "    }\n",
       "\n",
       "    .dataframe thead th {\n",
       "        text-align: right;\n",
       "    }\n",
       "</style>\n",
       "<table border=\"1\" class=\"dataframe\">\n",
       "  <thead>\n",
       "    <tr style=\"text-align: right;\">\n",
       "      <th></th>\n",
       "      <th>stop</th>\n",
       "      <th>255</th>\n",
       "      <th>255.1</th>\n",
       "      <th>255.2</th>\n",
       "      <th>255.3</th>\n",
       "      <th>255.4</th>\n",
       "      <th>255.5</th>\n",
       "      <th>255.6</th>\n",
       "      <th>255.7</th>\n",
       "      <th>255.8</th>\n",
       "      <th>...</th>\n",
       "      <th>255.653</th>\n",
       "      <th>255.654</th>\n",
       "      <th>255.655</th>\n",
       "      <th>255.656</th>\n",
       "      <th>255.657</th>\n",
       "      <th>255.658</th>\n",
       "      <th>255.659</th>\n",
       "      <th>255.660</th>\n",
       "      <th>255.661</th>\n",
       "      <th>255.662</th>\n",
       "    </tr>\n",
       "  </thead>\n",
       "  <tbody>\n",
       "    <tr>\n",
       "      <th>0</th>\n",
       "      <td>stop</td>\n",
       "      <td>255</td>\n",
       "      <td>255</td>\n",
       "      <td>255</td>\n",
       "      <td>255</td>\n",
       "      <td>255</td>\n",
       "      <td>255</td>\n",
       "      <td>255</td>\n",
       "      <td>255</td>\n",
       "      <td>255</td>\n",
       "      <td>...</td>\n",
       "      <td>255</td>\n",
       "      <td>255</td>\n",
       "      <td>255</td>\n",
       "      <td>255</td>\n",
       "      <td>255</td>\n",
       "      <td>255</td>\n",
       "      <td>255</td>\n",
       "      <td>255</td>\n",
       "      <td>255</td>\n",
       "      <td>255</td>\n",
       "    </tr>\n",
       "    <tr>\n",
       "      <th>1</th>\n",
       "      <td>stop</td>\n",
       "      <td>255</td>\n",
       "      <td>255</td>\n",
       "      <td>255</td>\n",
       "      <td>255</td>\n",
       "      <td>255</td>\n",
       "      <td>255</td>\n",
       "      <td>255</td>\n",
       "      <td>255</td>\n",
       "      <td>255</td>\n",
       "      <td>...</td>\n",
       "      <td>255</td>\n",
       "      <td>255</td>\n",
       "      <td>255</td>\n",
       "      <td>255</td>\n",
       "      <td>255</td>\n",
       "      <td>255</td>\n",
       "      <td>255</td>\n",
       "      <td>255</td>\n",
       "      <td>255</td>\n",
       "      <td>255</td>\n",
       "    </tr>\n",
       "    <tr>\n",
       "      <th>2</th>\n",
       "      <td>stop</td>\n",
       "      <td>255</td>\n",
       "      <td>255</td>\n",
       "      <td>255</td>\n",
       "      <td>255</td>\n",
       "      <td>255</td>\n",
       "      <td>255</td>\n",
       "      <td>255</td>\n",
       "      <td>255</td>\n",
       "      <td>255</td>\n",
       "      <td>...</td>\n",
       "      <td>255</td>\n",
       "      <td>255</td>\n",
       "      <td>255</td>\n",
       "      <td>255</td>\n",
       "      <td>255</td>\n",
       "      <td>255</td>\n",
       "      <td>255</td>\n",
       "      <td>255</td>\n",
       "      <td>255</td>\n",
       "      <td>255</td>\n",
       "    </tr>\n",
       "    <tr>\n",
       "      <th>3</th>\n",
       "      <td>stop</td>\n",
       "      <td>255</td>\n",
       "      <td>255</td>\n",
       "      <td>255</td>\n",
       "      <td>255</td>\n",
       "      <td>255</td>\n",
       "      <td>255</td>\n",
       "      <td>255</td>\n",
       "      <td>255</td>\n",
       "      <td>255</td>\n",
       "      <td>...</td>\n",
       "      <td>255</td>\n",
       "      <td>255</td>\n",
       "      <td>255</td>\n",
       "      <td>255</td>\n",
       "      <td>255</td>\n",
       "      <td>255</td>\n",
       "      <td>255</td>\n",
       "      <td>255</td>\n",
       "      <td>255</td>\n",
       "      <td>255</td>\n",
       "    </tr>\n",
       "    <tr>\n",
       "      <th>4</th>\n",
       "      <td>stop</td>\n",
       "      <td>255</td>\n",
       "      <td>255</td>\n",
       "      <td>255</td>\n",
       "      <td>255</td>\n",
       "      <td>255</td>\n",
       "      <td>255</td>\n",
       "      <td>255</td>\n",
       "      <td>255</td>\n",
       "      <td>255</td>\n",
       "      <td>...</td>\n",
       "      <td>255</td>\n",
       "      <td>255</td>\n",
       "      <td>255</td>\n",
       "      <td>255</td>\n",
       "      <td>255</td>\n",
       "      <td>255</td>\n",
       "      <td>255</td>\n",
       "      <td>255</td>\n",
       "      <td>255</td>\n",
       "      <td>255</td>\n",
       "    </tr>\n",
       "  </tbody>\n",
       "</table>\n",
       "<p>5 rows × 1201 columns</p>\n",
       "</div>"
      ]
     },
     "execution_count": 4,
     "metadata": {},
     "output_type": "execute_result"
    }
   ],
   "execution_count": 4
  },
  {
   "cell_type": "code",
   "metadata": {
    "ExecuteTime": {
     "end_time": "2025-03-28T09:03:42.611722Z",
     "start_time": "2025-03-28T09:03:40.085104Z"
    }
   },
   "source": [
    "data.describe()"
   ],
   "outputs": [
    {
     "data": {
      "text/plain": [
       "               255        255.1        255.2        255.3        255.4  \\\n",
       "count  3928.000000  3928.000000  3928.000000  3928.000000  3928.000000   \n",
       "mean    231.342413   231.342413   231.342413   232.026222   232.026222   \n",
       "std      59.119657    59.119657    59.119657    59.053049    59.053049   \n",
       "min      70.000000    70.000000    70.000000    70.000000    70.000000   \n",
       "25%     255.000000   255.000000   255.000000   255.000000   255.000000   \n",
       "50%     255.000000   255.000000   255.000000   255.000000   255.000000   \n",
       "75%     255.000000   255.000000   255.000000   255.000000   255.000000   \n",
       "max     255.000000   255.000000   255.000000   255.000000   255.000000   \n",
       "\n",
       "             255.5        255.6        255.7        255.8        255.9  ...  \\\n",
       "count  3928.000000  3928.000000  3928.000000  3928.000000  3928.000000  ...   \n",
       "mean    232.026222   227.356415   227.356415   227.356415   226.266293  ...   \n",
       "std      59.053049    64.462371    64.462371    64.462371    66.051618  ...   \n",
       "min      70.000000    70.000000    70.000000    70.000000    70.000000  ...   \n",
       "25%     255.000000   255.000000   255.000000   255.000000   255.000000  ...   \n",
       "50%     255.000000   255.000000   255.000000   255.000000   255.000000  ...   \n",
       "75%     255.000000   255.000000   255.000000   255.000000   255.000000  ...   \n",
       "max     255.000000   255.000000   255.000000   255.000000   255.000000  ...   \n",
       "\n",
       "           255.653      255.654      255.655      255.656      255.657  \\\n",
       "count  3928.000000  3928.000000  3928.000000  3928.000000  3928.000000   \n",
       "mean    214.803208   209.835794   209.835794   209.835794   202.944501   \n",
       "std      75.268102    78.630610    78.630610    78.630610    82.249854   \n",
       "min      70.000000    70.000000    70.000000    70.000000    70.000000   \n",
       "25%     255.000000   202.500000   202.500000   202.500000    70.000000   \n",
       "50%     255.000000   255.000000   255.000000   255.000000   255.000000   \n",
       "75%     255.000000   255.000000   255.000000   255.000000   255.000000   \n",
       "max     255.000000   255.000000   255.000000   255.000000   255.000000   \n",
       "\n",
       "           255.658      255.659      255.660      255.661      255.662  \n",
       "count  3928.000000  3928.000000  3928.000000  3928.000000  3928.000000  \n",
       "mean    202.944501   202.944501   197.380855   197.380855   197.380855  \n",
       "std      82.249854    82.249854    84.818205    84.818205    84.818205  \n",
       "min      70.000000    70.000000    70.000000    70.000000    70.000000  \n",
       "25%      70.000000    70.000000    70.000000    70.000000    70.000000  \n",
       "50%     255.000000   255.000000   255.000000   255.000000   255.000000  \n",
       "75%     255.000000   255.000000   255.000000   255.000000   255.000000  \n",
       "max     255.000000   255.000000   255.000000   255.000000   255.000000  \n",
       "\n",
       "[8 rows x 1200 columns]"
      ],
      "text/html": [
       "<div>\n",
       "<style scoped>\n",
       "    .dataframe tbody tr th:only-of-type {\n",
       "        vertical-align: middle;\n",
       "    }\n",
       "\n",
       "    .dataframe tbody tr th {\n",
       "        vertical-align: top;\n",
       "    }\n",
       "\n",
       "    .dataframe thead th {\n",
       "        text-align: right;\n",
       "    }\n",
       "</style>\n",
       "<table border=\"1\" class=\"dataframe\">\n",
       "  <thead>\n",
       "    <tr style=\"text-align: right;\">\n",
       "      <th></th>\n",
       "      <th>255</th>\n",
       "      <th>255.1</th>\n",
       "      <th>255.2</th>\n",
       "      <th>255.3</th>\n",
       "      <th>255.4</th>\n",
       "      <th>255.5</th>\n",
       "      <th>255.6</th>\n",
       "      <th>255.7</th>\n",
       "      <th>255.8</th>\n",
       "      <th>255.9</th>\n",
       "      <th>...</th>\n",
       "      <th>255.653</th>\n",
       "      <th>255.654</th>\n",
       "      <th>255.655</th>\n",
       "      <th>255.656</th>\n",
       "      <th>255.657</th>\n",
       "      <th>255.658</th>\n",
       "      <th>255.659</th>\n",
       "      <th>255.660</th>\n",
       "      <th>255.661</th>\n",
       "      <th>255.662</th>\n",
       "    </tr>\n",
       "  </thead>\n",
       "  <tbody>\n",
       "    <tr>\n",
       "      <th>count</th>\n",
       "      <td>3928.000000</td>\n",
       "      <td>3928.000000</td>\n",
       "      <td>3928.000000</td>\n",
       "      <td>3928.000000</td>\n",
       "      <td>3928.000000</td>\n",
       "      <td>3928.000000</td>\n",
       "      <td>3928.000000</td>\n",
       "      <td>3928.000000</td>\n",
       "      <td>3928.000000</td>\n",
       "      <td>3928.000000</td>\n",
       "      <td>...</td>\n",
       "      <td>3928.000000</td>\n",
       "      <td>3928.000000</td>\n",
       "      <td>3928.000000</td>\n",
       "      <td>3928.000000</td>\n",
       "      <td>3928.000000</td>\n",
       "      <td>3928.000000</td>\n",
       "      <td>3928.000000</td>\n",
       "      <td>3928.000000</td>\n",
       "      <td>3928.000000</td>\n",
       "      <td>3928.000000</td>\n",
       "    </tr>\n",
       "    <tr>\n",
       "      <th>mean</th>\n",
       "      <td>231.342413</td>\n",
       "      <td>231.342413</td>\n",
       "      <td>231.342413</td>\n",
       "      <td>232.026222</td>\n",
       "      <td>232.026222</td>\n",
       "      <td>232.026222</td>\n",
       "      <td>227.356415</td>\n",
       "      <td>227.356415</td>\n",
       "      <td>227.356415</td>\n",
       "      <td>226.266293</td>\n",
       "      <td>...</td>\n",
       "      <td>214.803208</td>\n",
       "      <td>209.835794</td>\n",
       "      <td>209.835794</td>\n",
       "      <td>209.835794</td>\n",
       "      <td>202.944501</td>\n",
       "      <td>202.944501</td>\n",
       "      <td>202.944501</td>\n",
       "      <td>197.380855</td>\n",
       "      <td>197.380855</td>\n",
       "      <td>197.380855</td>\n",
       "    </tr>\n",
       "    <tr>\n",
       "      <th>std</th>\n",
       "      <td>59.119657</td>\n",
       "      <td>59.119657</td>\n",
       "      <td>59.119657</td>\n",
       "      <td>59.053049</td>\n",
       "      <td>59.053049</td>\n",
       "      <td>59.053049</td>\n",
       "      <td>64.462371</td>\n",
       "      <td>64.462371</td>\n",
       "      <td>64.462371</td>\n",
       "      <td>66.051618</td>\n",
       "      <td>...</td>\n",
       "      <td>75.268102</td>\n",
       "      <td>78.630610</td>\n",
       "      <td>78.630610</td>\n",
       "      <td>78.630610</td>\n",
       "      <td>82.249854</td>\n",
       "      <td>82.249854</td>\n",
       "      <td>82.249854</td>\n",
       "      <td>84.818205</td>\n",
       "      <td>84.818205</td>\n",
       "      <td>84.818205</td>\n",
       "    </tr>\n",
       "    <tr>\n",
       "      <th>min</th>\n",
       "      <td>70.000000</td>\n",
       "      <td>70.000000</td>\n",
       "      <td>70.000000</td>\n",
       "      <td>70.000000</td>\n",
       "      <td>70.000000</td>\n",
       "      <td>70.000000</td>\n",
       "      <td>70.000000</td>\n",
       "      <td>70.000000</td>\n",
       "      <td>70.000000</td>\n",
       "      <td>70.000000</td>\n",
       "      <td>...</td>\n",
       "      <td>70.000000</td>\n",
       "      <td>70.000000</td>\n",
       "      <td>70.000000</td>\n",
       "      <td>70.000000</td>\n",
       "      <td>70.000000</td>\n",
       "      <td>70.000000</td>\n",
       "      <td>70.000000</td>\n",
       "      <td>70.000000</td>\n",
       "      <td>70.000000</td>\n",
       "      <td>70.000000</td>\n",
       "    </tr>\n",
       "    <tr>\n",
       "      <th>25%</th>\n",
       "      <td>255.000000</td>\n",
       "      <td>255.000000</td>\n",
       "      <td>255.000000</td>\n",
       "      <td>255.000000</td>\n",
       "      <td>255.000000</td>\n",
       "      <td>255.000000</td>\n",
       "      <td>255.000000</td>\n",
       "      <td>255.000000</td>\n",
       "      <td>255.000000</td>\n",
       "      <td>255.000000</td>\n",
       "      <td>...</td>\n",
       "      <td>255.000000</td>\n",
       "      <td>202.500000</td>\n",
       "      <td>202.500000</td>\n",
       "      <td>202.500000</td>\n",
       "      <td>70.000000</td>\n",
       "      <td>70.000000</td>\n",
       "      <td>70.000000</td>\n",
       "      <td>70.000000</td>\n",
       "      <td>70.000000</td>\n",
       "      <td>70.000000</td>\n",
       "    </tr>\n",
       "    <tr>\n",
       "      <th>50%</th>\n",
       "      <td>255.000000</td>\n",
       "      <td>255.000000</td>\n",
       "      <td>255.000000</td>\n",
       "      <td>255.000000</td>\n",
       "      <td>255.000000</td>\n",
       "      <td>255.000000</td>\n",
       "      <td>255.000000</td>\n",
       "      <td>255.000000</td>\n",
       "      <td>255.000000</td>\n",
       "      <td>255.000000</td>\n",
       "      <td>...</td>\n",
       "      <td>255.000000</td>\n",
       "      <td>255.000000</td>\n",
       "      <td>255.000000</td>\n",
       "      <td>255.000000</td>\n",
       "      <td>255.000000</td>\n",
       "      <td>255.000000</td>\n",
       "      <td>255.000000</td>\n",
       "      <td>255.000000</td>\n",
       "      <td>255.000000</td>\n",
       "      <td>255.000000</td>\n",
       "    </tr>\n",
       "    <tr>\n",
       "      <th>75%</th>\n",
       "      <td>255.000000</td>\n",
       "      <td>255.000000</td>\n",
       "      <td>255.000000</td>\n",
       "      <td>255.000000</td>\n",
       "      <td>255.000000</td>\n",
       "      <td>255.000000</td>\n",
       "      <td>255.000000</td>\n",
       "      <td>255.000000</td>\n",
       "      <td>255.000000</td>\n",
       "      <td>255.000000</td>\n",
       "      <td>...</td>\n",
       "      <td>255.000000</td>\n",
       "      <td>255.000000</td>\n",
       "      <td>255.000000</td>\n",
       "      <td>255.000000</td>\n",
       "      <td>255.000000</td>\n",
       "      <td>255.000000</td>\n",
       "      <td>255.000000</td>\n",
       "      <td>255.000000</td>\n",
       "      <td>255.000000</td>\n",
       "      <td>255.000000</td>\n",
       "    </tr>\n",
       "    <tr>\n",
       "      <th>max</th>\n",
       "      <td>255.000000</td>\n",
       "      <td>255.000000</td>\n",
       "      <td>255.000000</td>\n",
       "      <td>255.000000</td>\n",
       "      <td>255.000000</td>\n",
       "      <td>255.000000</td>\n",
       "      <td>255.000000</td>\n",
       "      <td>255.000000</td>\n",
       "      <td>255.000000</td>\n",
       "      <td>255.000000</td>\n",
       "      <td>...</td>\n",
       "      <td>255.000000</td>\n",
       "      <td>255.000000</td>\n",
       "      <td>255.000000</td>\n",
       "      <td>255.000000</td>\n",
       "      <td>255.000000</td>\n",
       "      <td>255.000000</td>\n",
       "      <td>255.000000</td>\n",
       "      <td>255.000000</td>\n",
       "      <td>255.000000</td>\n",
       "      <td>255.000000</td>\n",
       "    </tr>\n",
       "  </tbody>\n",
       "</table>\n",
       "<p>8 rows × 1200 columns</p>\n",
       "</div>"
      ]
     },
     "execution_count": 5,
     "metadata": {},
     "output_type": "execute_result"
    }
   ],
   "execution_count": 5
  },
  {
   "cell_type": "code",
   "metadata": {
    "ExecuteTime": {
     "end_time": "2025-03-28T09:03:42.913397Z",
     "start_time": "2025-03-28T09:03:42.680486Z"
    }
   },
   "source": [
    "label_movement = data.columns[0]\n",
    "\n",
    "data[label_movement].value_counts().plot(kind='bar')\n",
    "plt.title('actions')\n",
    "plt.xlabel('stop')\n",
    "plt.ylabel('Count')"
   ],
   "outputs": [
    {
     "data": {
      "text/plain": [
       "Text(0, 0.5, 'Count')"
      ]
     },
     "execution_count": 6,
     "metadata": {},
     "output_type": "execute_result"
    },
    {
     "data": {
      "text/plain": [
       "<Figure size 640x480 with 1 Axes>"
      ],
      "image/png": "[encoded data removed]"
     },
     "metadata": {},
     "output_type": "display_data"
    }
   ],
   "execution_count": 6
  },
  {
   "cell_type": "code",
   "metadata": {
    "ExecuteTime": {
     "end_time": "2025-03-28T09:03:44.530020Z",
     "start_time": "2025-03-28T09:03:44.289944Z"
    }
   },
   "source": [
    "data_random_forward = data[data[label_movement] == 'forward'].sample(n=int(data.shape[0]/3))\n",
    "data.drop(data_random_forward.index,inplace=True)\n",
    "data[label_movement].value_counts().plot(kind='bar')\n",
    "plt.title('actions')\n",
    "plt.xlabel('action')\n",
    "plt.ylabel('Count')\n"
   ],
   "outputs": [
    {
     "data": {
      "text/plain": [
       "Text(0, 0.5, 'Count')"
      ]
     },
     "execution_count": 7,
     "metadata": {},
     "output_type": "execute_result"
    },
    {
     "data": {
      "text/plain": [
       "<Figure size 640x480 with 1 Axes>"
      ],
      "image/png": "[encoded data removed]"
     },
     "metadata": {},
     "output_type": "display_data"
    }
   ],
   "execution_count": 7
  },
  {
   "cell_type": "code",
   "metadata": {
    "ExecuteTime": {
     "end_time": "2025-03-28T09:03:45.095854Z",
     "start_time": "2025-03-28T09:03:45.085391Z"
    }
   },
   "source": [
    "train1 = data.drop([label_movement],axis=1)"
   ],
   "outputs": [],
   "execution_count": 8
  },
  {
   "cell_type": "code",
   "metadata": {
    "ExecuteTime": {
     "end_time": "2025-03-28T09:03:46.804856Z",
     "start_time": "2025-03-28T09:03:46.789445Z"
    }
   },
   "source": [
    "train1.head()"
   ],
   "outputs": [
    {
     "data": {
      "text/plain": [
       "   255  255.1  255.2  255.3  255.4  255.5  255.6  255.7  255.8  255.9  ...  \\\n",
       "0  255    255    255    255    255    255    255    255    255    255  ...   \n",
       "1  255    255    255    255    255    255    255    255    255    255  ...   \n",
       "2  255    255    255    255    255    255    255    255    255    255  ...   \n",
       "3  255    255    255    255    255    255    255    255    255    255  ...   \n",
       "4  255    255    255    255    255    255    255    255    255    255  ...   \n",
       "\n",
       "   255.653  255.654  255.655  255.656  255.657  255.658  255.659  255.660  \\\n",
       "0      255      255      255      255      255      255      255      255   \n",
       "1      255      255      255      255      255      255      255      255   \n",
       "2      255      255      255      255      255      255      255      255   \n",
       "3      255      255      255      255      255      255      255      255   \n",
       "4      255      255      255      255      255      255      255      255   \n",
       "\n",
       "   255.661  255.662  \n",
       "0      255      255  \n",
       "1      255      255  \n",
       "2      255      255  \n",
       "3      255      255  \n",
       "4      255      255  \n",
       "\n",
       "[5 rows x 1200 columns]"
      ],
      "text/html": [
       "<div>\n",
       "<style scoped>\n",
       "    .dataframe tbody tr th:only-of-type {\n",
       "        vertical-align: middle;\n",
       "    }\n",
       "\n",
       "    .dataframe tbody tr th {\n",
       "        vertical-align: top;\n",
       "    }\n",
       "\n",
       "    .dataframe thead th {\n",
       "        text-align: right;\n",
       "    }\n",
       "</style>\n",
       "<table border=\"1\" class=\"dataframe\">\n",
       "  <thead>\n",
       "    <tr style=\"text-align: right;\">\n",
       "      <th></th>\n",
       "      <th>255</th>\n",
       "      <th>255.1</th>\n",
       "      <th>255.2</th>\n",
       "      <th>255.3</th>\n",
       "      <th>255.4</th>\n",
       "      <th>255.5</th>\n",
       "      <th>255.6</th>\n",
       "      <th>255.7</th>\n",
       "      <th>255.8</th>\n",
       "      <th>255.9</th>\n",
       "      <th>...</th>\n",
       "      <th>255.653</th>\n",
       "      <th>255.654</th>\n",
       "      <th>255.655</th>\n",
       "      <th>255.656</th>\n",
       "      <th>255.657</th>\n",
       "      <th>255.658</th>\n",
       "      <th>255.659</th>\n",
       "      <th>255.660</th>\n",
       "      <th>255.661</th>\n",
       "      <th>255.662</th>\n",
       "    </tr>\n",
       "  </thead>\n",
       "  <tbody>\n",
       "    <tr>\n",
       "      <th>0</th>\n",
       "      <td>255</td>\n",
       "      <td>255</td>\n",
       "      <td>255</td>\n",
       "      <td>255</td>\n",
       "      <td>255</td>\n",
       "      <td>255</td>\n",
       "      <td>255</td>\n",
       "      <td>255</td>\n",
       "      <td>255</td>\n",
       "      <td>255</td>\n",
       "      <td>...</td>\n",
       "      <td>255</td>\n",
       "      <td>255</td>\n",
       "      <td>255</td>\n",
       "      <td>255</td>\n",
       "      <td>255</td>\n",
       "      <td>255</td>\n",
       "      <td>255</td>\n",
       "      <td>255</td>\n",
       "      <td>255</td>\n",
       "      <td>255</td>\n",
       "    </tr>\n",
       "    <tr>\n",
       "      <th>1</th>\n",
       "      <td>255</td>\n",
       "      <td>255</td>\n",
       "      <td>255</td>\n",
       "      <td>255</td>\n",
       "      <td>255</td>\n",
       "      <td>255</td>\n",
       "      <td>255</td>\n",
       "      <td>255</td>\n",
       "      <td>255</td>\n",
       "      <td>255</td>\n",
       "      <td>...</td>\n",
       "      <td>255</td>\n",
       "      <td>255</td>\n",
       "      <td>255</td>\n",
       "      <td>255</td>\n",
       "      <td>255</td>\n",
       "      <td>255</td>\n",
       "      <td>255</td>\n",
       "      <td>255</td>\n",
       "      <td>255</td>\n",
       "      <td>255</td>\n",
       "    </tr>\n",
       "    <tr>\n",
       "      <th>2</th>\n",
       "      <td>255</td>\n",
       "      <td>255</td>\n",
       "      <td>255</td>\n",
       "      <td>255</td>\n",
       "      <td>255</td>\n",
       "      <td>255</td>\n",
       "      <td>255</td>\n",
       "      <td>255</td>\n",
       "      <td>255</td>\n",
       "      <td>255</td>\n",
       "      <td>...</td>\n",
       "      <td>255</td>\n",
       "      <td>255</td>\n",
       "      <td>255</td>\n",
       "      <td>255</td>\n",
       "      <td>255</td>\n",
       "      <td>255</td>\n",
       "      <td>255</td>\n",
       "      <td>255</td>\n",
       "      <td>255</td>\n",
       "      <td>255</td>\n",
       "    </tr>\n",
       "    <tr>\n",
       "      <th>3</th>\n",
       "      <td>255</td>\n",
       "      <td>255</td>\n",
       "      <td>255</td>\n",
       "      <td>255</td>\n",
       "      <td>255</td>\n",
       "      <td>255</td>\n",
       "      <td>255</td>\n",
       "      <td>255</td>\n",
       "      <td>255</td>\n",
       "      <td>255</td>\n",
       "      <td>...</td>\n",
       "      <td>255</td>\n",
       "      <td>255</td>\n",
       "      <td>255</td>\n",
       "      <td>255</td>\n",
       "      <td>255</td>\n",
       "      <td>255</td>\n",
       "      <td>255</td>\n",
       "      <td>255</td>\n",
       "      <td>255</td>\n",
       "      <td>255</td>\n",
       "    </tr>\n",
       "    <tr>\n",
       "      <th>4</th>\n",
       "      <td>255</td>\n",
       "      <td>255</td>\n",
       "      <td>255</td>\n",
       "      <td>255</td>\n",
       "      <td>255</td>\n",
       "      <td>255</td>\n",
       "      <td>255</td>\n",
       "      <td>255</td>\n",
       "      <td>255</td>\n",
       "      <td>255</td>\n",
       "      <td>...</td>\n",
       "      <td>255</td>\n",
       "      <td>255</td>\n",
       "      <td>255</td>\n",
       "      <td>255</td>\n",
       "      <td>255</td>\n",
       "      <td>255</td>\n",
       "      <td>255</td>\n",
       "      <td>255</td>\n",
       "      <td>255</td>\n",
       "      <td>255</td>\n",
       "    </tr>\n",
       "  </tbody>\n",
       "</table>\n",
       "<p>5 rows × 1200 columns</p>\n",
       "</div>"
      ]
     },
     "execution_count": 9,
     "metadata": {},
     "output_type": "execute_result"
    }
   ],
   "execution_count": 9
  },
  {
   "cell_type": "code",
   "metadata": {
    "ExecuteTime": {
     "end_time": "2025-03-28T09:03:47.876034Z",
     "start_time": "2025-03-28T09:03:47.390423Z"
    }
   },
   "source": [
    "from sklearn.svm import SVC"
   ],
   "outputs": [],
   "execution_count": 10
  },
  {
   "cell_type": "code",
   "metadata": {
    "ExecuteTime": {
     "end_time": "2025-03-28T09:03:47.937911Z",
     "start_time": "2025-03-28T09:03:47.934187Z"
    }
   },
   "source": [
    "clf = SVC()"
   ],
   "outputs": [],
   "execution_count": 11
  },
  {
   "cell_type": "code",
   "metadata": {
    "ExecuteTime": {
     "end_time": "2025-03-28T09:03:47.981669Z",
     "start_time": "2025-03-28T09:03:47.978589Z"
    }
   },
   "source": [],
   "outputs": [],
   "execution_count": null
  },
  {
   "cell_type": "code",
   "metadata": {
    "ExecuteTime": {
     "end_time": "2025-03-28T09:03:51.659361Z",
     "start_time": "2025-03-28T09:03:49.890108Z"
    }
   },
   "source": [
    "data = data.dropna()\n",
    "\n",
    "data_no_stop = data[data[label_movement] != 'stop']\n",
    "conv_labels = [0 if values == 'forward' else values for values in data_no_stop[label_movement] ]\n",
    "conv_labels = [1 if values == 'left' else values for values in conv_labels ]\n",
    "conv_labels = [2 if values == 'right' else values for values in conv_labels ]\n",
    "\n",
    "labels = conv_labels\n",
    "train1 = data_no_stop.drop([ label_movement],axis=1)\n",
    "data_no_stop.describe()\n"
   ],
   "outputs": [
    {
     "data": {
      "text/plain": [
       "               255        255.1        255.2        255.3        255.4  \\\n",
       "count  2523.000000  2523.000000  2523.000000  2523.000000  2523.000000   \n",
       "mean    230.636940   230.636940   230.636940   231.666270   231.666270   \n",
       "std      59.905184    59.905184    59.905184    59.518478    59.518478   \n",
       "min      70.000000    70.000000    70.000000    70.000000    70.000000   \n",
       "25%     255.000000   255.000000   255.000000   255.000000   255.000000   \n",
       "50%     255.000000   255.000000   255.000000   255.000000   255.000000   \n",
       "75%     255.000000   255.000000   255.000000   255.000000   255.000000   \n",
       "max     255.000000   255.000000   255.000000   255.000000   255.000000   \n",
       "\n",
       "             255.5        255.6        255.7        255.8        255.9  ...  \\\n",
       "count  2523.000000  2523.000000  2523.000000  2523.000000  2523.000000  ...   \n",
       "mean    231.666270   226.145858   226.145858   226.145858   224.022196  ...   \n",
       "std      59.518478    65.547424    65.547424    65.547424    68.078012  ...   \n",
       "min      70.000000    70.000000    70.000000    70.000000    70.000000  ...   \n",
       "25%     255.000000   255.000000   255.000000   255.000000   255.000000  ...   \n",
       "50%     255.000000   255.000000   255.000000   255.000000   255.000000  ...   \n",
       "75%     255.000000   255.000000   255.000000   255.000000   255.000000  ...   \n",
       "max     255.000000   255.000000   255.000000   255.000000   255.000000  ...   \n",
       "\n",
       "           255.653      255.654      255.655      255.656      255.657  \\\n",
       "count  2523.000000  2523.000000  2523.000000  2523.000000  2523.000000   \n",
       "mean    212.258819   207.617519   207.617519   207.617519   201.150218   \n",
       "std      77.004603    79.995351    79.995351    79.995351    83.037455   \n",
       "min      70.000000    70.000000    70.000000    70.000000    70.000000   \n",
       "25%     254.000000   104.500000   104.500000   104.500000    70.000000   \n",
       "50%     255.000000   255.000000   255.000000   255.000000   255.000000   \n",
       "75%     255.000000   255.000000   255.000000   255.000000   255.000000   \n",
       "max     255.000000   255.000000   255.000000   255.000000   255.000000   \n",
       "\n",
       "           255.658      255.659      255.660      255.661      255.662  \n",
       "count  2523.000000  2523.000000  2523.000000  2523.000000  2523.000000  \n",
       "mean    201.150218   201.150218   194.762188   194.762188   194.762188  \n",
       "std      83.037455    83.037455    85.780328    85.780328    85.780328  \n",
       "min      70.000000    70.000000    70.000000    70.000000    70.000000  \n",
       "25%      70.000000    70.000000    70.000000    70.000000    70.000000  \n",
       "50%     255.000000   255.000000   255.000000   255.000000   255.000000  \n",
       "75%     255.000000   255.000000   255.000000   255.000000   255.000000  \n",
       "max     255.000000   255.000000   255.000000   255.000000   255.000000  \n",
       "\n",
       "[8 rows x 1200 columns]"
      ],
      "text/html": [
       "<div>\n",
       "<style scoped>\n",
       "    .dataframe tbody tr th:only-of-type {\n",
       "        vertical-align: middle;\n",
       "    }\n",
       "\n",
       "    .dataframe tbody tr th {\n",
       "        vertical-align: top;\n",
       "    }\n",
       "\n",
       "    .dataframe thead th {\n",
       "        text-align: right;\n",
       "    }\n",
       "</style>\n",
       "<table border=\"1\" class=\"dataframe\">\n",
       "  <thead>\n",
       "    <tr style=\"text-align: right;\">\n",
       "      <th></th>\n",
       "      <th>255</th>\n",
       "      <th>255.1</th>\n",
       "      <th>255.2</th>\n",
       "      <th>255.3</th>\n",
       "      <th>255.4</th>\n",
       "      <th>255.5</th>\n",
       "      <th>255.6</th>\n",
       "      <th>255.7</th>\n",
       "      <th>255.8</th>\n",
       "      <th>255.9</th>\n",
       "      <th>...</th>\n",
       "      <th>255.653</th>\n",
       "      <th>255.654</th>\n",
       "      <th>255.655</th>\n",
       "      <th>255.656</th>\n",
       "      <th>255.657</th>\n",
       "      <th>255.658</th>\n",
       "      <th>255.659</th>\n",
       "      <th>255.660</th>\n",
       "      <th>255.661</th>\n",
       "      <th>255.662</th>\n",
       "    </tr>\n",
       "  </thead>\n",
       "  <tbody>\n",
       "    <tr>\n",
       "      <th>count</th>\n",
       "      <td>2523.000000</td>\n",
       "      <td>2523.000000</td>\n",
       "      <td>2523.000000</td>\n",
       "      <td>2523.000000</td>\n",
       "      <td>2523.000000</td>\n",
       "      <td>2523.000000</td>\n",
       "      <td>2523.000000</td>\n",
       "      <td>2523.000000</td>\n",
       "      <td>2523.000000</td>\n",
       "      <td>2523.000000</td>\n",
       "      <td>...</td>\n",
       "      <td>2523.000000</td>\n",
       "      <td>2523.000000</td>\n",
       "      <td>2523.000000</td>\n",
       "      <td>2523.000000</td>\n",
       "      <td>2523.000000</td>\n",
       "      <td>2523.000000</td>\n",
       "      <td>2523.000000</td>\n",
       "      <td>2523.000000</td>\n",
       "      <td>2523.000000</td>\n",
       "      <td>2523.000000</td>\n",
       "    </tr>\n",
       "    <tr>\n",
       "      <th>mean</th>\n",
       "      <td>230.636940</td>\n",
       "      <td>230.636940</td>\n",
       "      <td>230.636940</td>\n",
       "      <td>231.666270</td>\n",
       "      <td>231.666270</td>\n",
       "      <td>231.666270</td>\n",
       "      <td>226.145858</td>\n",
       "      <td>226.145858</td>\n",
       "      <td>226.145858</td>\n",
       "      <td>224.022196</td>\n",
       "      <td>...</td>\n",
       "      <td>212.258819</td>\n",
       "      <td>207.617519</td>\n",
       "      <td>207.617519</td>\n",
       "      <td>207.617519</td>\n",
       "      <td>201.150218</td>\n",
       "      <td>201.150218</td>\n",
       "      <td>201.150218</td>\n",
       "      <td>194.762188</td>\n",
       "      <td>194.762188</td>\n",
       "      <td>194.762188</td>\n",
       "    </tr>\n",
       "    <tr>\n",
       "      <th>std</th>\n",
       "      <td>59.905184</td>\n",
       "      <td>59.905184</td>\n",
       "      <td>59.905184</td>\n",
       "      <td>59.518478</td>\n",
       "      <td>59.518478</td>\n",
       "      <td>59.518478</td>\n",
       "      <td>65.547424</td>\n",
       "      <td>65.547424</td>\n",
       "      <td>65.547424</td>\n",
       "      <td>68.078012</td>\n",
       "      <td>...</td>\n",
       "      <td>77.004603</td>\n",
       "      <td>79.995351</td>\n",
       "      <td>79.995351</td>\n",
       "      <td>79.995351</td>\n",
       "      <td>83.037455</td>\n",
       "      <td>83.037455</td>\n",
       "      <td>83.037455</td>\n",
       "      <td>85.780328</td>\n",
       "      <td>85.780328</td>\n",
       "      <td>85.780328</td>\n",
       "    </tr>\n",
       "    <tr>\n",
       "      <th>min</th>\n",
       "      <td>70.000000</td>\n",
       "      <td>70.000000</td>\n",
       "      <td>70.000000</td>\n",
       "      <td>70.000000</td>\n",
       "      <td>70.000000</td>\n",
       "      <td>70.000000</td>\n",
       "      <td>70.000000</td>\n",
       "      <td>70.000000</td>\n",
       "      <td>70.000000</td>\n",
       "      <td>70.000000</td>\n",
       "      <td>...</td>\n",
       "      <td>70.000000</td>\n",
       "      <td>70.000000</td>\n",
       "      <td>70.000000</td>\n",
       "      <td>70.000000</td>\n",
       "      <td>70.000000</td>\n",
       "      <td>70.000000</td>\n",
       "      <td>70.000000</td>\n",
       "      <td>70.000000</td>\n",
       "      <td>70.000000</td>\n",
       "      <td>70.000000</td>\n",
       "    </tr>\n",
       "    <tr>\n",
       "      <th>25%</th>\n",
       "      <td>255.000000</td>\n",
       "      <td>255.000000</td>\n",
       "      <td>255.000000</td>\n",
       "      <td>255.000000</td>\n",
       "      <td>255.000000</td>\n",
       "      <td>255.000000</td>\n",
       "      <td>255.000000</td>\n",
       "      <td>255.000000</td>\n",
       "      <td>255.000000</td>\n",
       "      <td>255.000000</td>\n",
       "      <td>...</td>\n",
       "      <td>254.000000</td>\n",
       "      <td>104.500000</td>\n",
       "      <td>104.500000</td>\n",
       "      <td>104.500000</td>\n",
       "      <td>70.000000</td>\n",
       "      <td>70.000000</td>\n",
       "      <td>70.000000</td>\n",
       "      <td>70.000000</td>\n",
       "      <td>70.000000</td>\n",
       "      <td>70.000000</td>\n",
       "    </tr>\n",
       "    <tr>\n",
       "      <th>50%</th>\n",
       "      <td>255.000000</td>\n",
       "      <td>255.000000</td>\n",
       "      <td>255.000000</td>\n",
       "      <td>255.000000</td>\n",
       "      <td>255.000000</td>\n",
       "      <td>255.000000</td>\n",
       "      <td>255.000000</td>\n",
       "      <td>255.000000</td>\n",
       "      <td>255.000000</td>\n",
       "      <td>255.000000</td>\n",
       "      <td>...</td>\n",
       "      <td>255.000000</td>\n",
       "      <td>255.000000</td>\n",
       "      <td>255.000000</td>\n",
       "      <td>255.000000</td>\n",
       "      <td>255.000000</td>\n",
       "      <td>255.000000</td>\n",
       "      <td>255.000000</td>\n",
       "      <td>255.000000</td>\n",
       "      <td>255.000000</td>\n",
       "      <td>255.000000</td>\n",
       "    </tr>\n",
       "    <tr>\n",
       "      <th>75%</th>\n",
       "      <td>255.000000</td>\n",
       "      <td>255.000000</td>\n",
       "      <td>255.000000</td>\n",
       "      <td>255.000000</td>\n",
       "      <td>255.000000</td>\n",
       "      <td>255.000000</td>\n",
       "      <td>255.000000</td>\n",
       "      <td>255.000000</td>\n",
       "      <td>255.000000</td>\n",
       "      <td>255.000000</td>\n",
       "      <td>...</td>\n",
       "      <td>255.000000</td>\n",
       "      <td>255.000000</td>\n",
       "      <td>255.000000</td>\n",
       "      <td>255.000000</td>\n",
       "      <td>255.000000</td>\n",
       "      <td>255.000000</td>\n",
       "      <td>255.000000</td>\n",
       "      <td>255.000000</td>\n",
       "      <td>255.000000</td>\n",
       "      <td>255.000000</td>\n",
       "    </tr>\n",
       "    <tr>\n",
       "      <th>max</th>\n",
       "      <td>255.000000</td>\n",
       "      <td>255.000000</td>\n",
       "      <td>255.000000</td>\n",
       "      <td>255.000000</td>\n",
       "      <td>255.000000</td>\n",
       "      <td>255.000000</td>\n",
       "      <td>255.000000</td>\n",
       "      <td>255.000000</td>\n",
       "      <td>255.000000</td>\n",
       "      <td>255.000000</td>\n",
       "      <td>...</td>\n",
       "      <td>255.000000</td>\n",
       "      <td>255.000000</td>\n",
       "      <td>255.000000</td>\n",
       "      <td>255.000000</td>\n",
       "      <td>255.000000</td>\n",
       "      <td>255.000000</td>\n",
       "      <td>255.000000</td>\n",
       "      <td>255.000000</td>\n",
       "      <td>255.000000</td>\n",
       "      <td>255.000000</td>\n",
       "    </tr>\n",
       "  </tbody>\n",
       "</table>\n",
       "<p>8 rows × 1200 columns</p>\n",
       "</div>"
      ]
     },
     "execution_count": 12,
     "metadata": {},
     "output_type": "execute_result"
    }
   ],
   "execution_count": 12
  },
  {
   "cell_type": "code",
   "metadata": {
    "ExecuteTime": {
     "end_time": "2025-03-28T09:03:52.024181Z",
     "start_time": "2025-03-28T09:03:52.020295Z"
    }
   },
   "source": [
    "from sklearn.model_selection import train_test_split"
   ],
   "outputs": [],
   "execution_count": 13
  },
  {
   "cell_type": "code",
   "metadata": {
    "ExecuteTime": {
     "end_time": "2025-03-28T09:03:52.192048Z",
     "start_time": "2025-03-28T09:03:52.175407Z"
    }
   },
   "source": [
    "x_train, x_test, y_train, y_test = train_test_split(train1, conv_labels, test_size = 0.10, random_state = 2)"
   ],
   "outputs": [],
   "execution_count": 14
  },
  {
   "cell_type": "code",
   "metadata": {
    "ExecuteTime": {
     "end_time": "2025-03-28T09:03:56.451243Z",
     "start_time": "2025-03-28T09:03:53.260667Z"
    }
   },
   "source": [
    "clf.fit(x_train,y_train)"
   ],
   "outputs": [
    {
     "data": {
      "text/plain": [
       "SVC()"
      ],
      "text/html": [
       "<style>#sk-container-id-1 {color: black;}#sk-container-id-1 pre{padding: 0;}#sk-container-id-1 div.sk-toggleable {background-color: white;}#sk-container-id-1 label.sk-toggleable__label {cursor: pointer;display: block;width: 100%;margin-bottom: 0;padding: 0.3em;box-sizing: border-box;text-align: center;}#sk-container-id-1 label.sk-toggleable__label-arrow:before {content: \"▸\";float: left;margin-right: 0.25em;color: #696969;}#sk-container-id-1 label.sk-toggleable__label-arrow:hover:before {color: black;}#sk-container-id-1 div.sk-estimator:hover label.sk-toggleable__label-arrow:before {color: black;}#sk-container-id-1 div.sk-toggleable__content {max-height: 0;max-width: 0;overflow: hidden;text-align: left;background-color: #f0f8ff;}#sk-container-id-1 div.sk-toggleable__content pre {margin: 0.2em;color: black;border-radius: 0.25em;background-color: #f0f8ff;}#sk-container-id-1 input.sk-toggleable__control:checked~div.sk-toggleable__content {max-height: 200px;max-width: 100%;overflow: auto;}#sk-container-id-1 input.sk-toggleable__control:checked~label.sk-toggleable__label-arrow:before {content: \"▾\";}#sk-container-id-1 div.sk-estimator input.sk-toggleable__control:checked~label.sk-toggleable__label {background-color: #d4ebff;}#sk-container-id-1 div.sk-label input.sk-toggleable__control:checked~label.sk-toggleable__label {background-color: #d4ebff;}#sk-container-id-1 input.sk-hidden--visually {border: 0;clip: rect(1px 1px 1px 1px);clip: rect(1px, 1px, 1px, 1px);height: 1px;margin: -1px;overflow: hidden;padding: 0;position: absolute;width: 1px;}#sk-container-id-1 div.sk-estimator {font-family: monospace;background-color: #f0f8ff;border: 1px dotted black;border-radius: 0.25em;box-sizing: border-box;margin-bottom: 0.5em;}#sk-container-id-1 div.sk-estimator:hover {background-color: #d4ebff;}#sk-container-id-1 div.sk-parallel-item::after {content: \"\";width: 100%;border-bottom: 1px solid gray;flex-grow: 1;}#sk-container-id-1 div.sk-label:hover label.sk-toggleable__label {background-color: #d4ebff;}#sk-container-id-1 div.sk-serial::before {content: \"\";position: absolute;border-left: 1px solid gray;box-sizing: border-box;top: 0;bottom: 0;left: 50%;z-index: 0;}#sk-container-id-1 div.sk-serial {display: flex;flex-direction: column;align-items: center;background-color: white;padding-right: 0.2em;padding-left: 0.2em;position: relative;}#sk-container-id-1 div.sk-item {position: relative;z-index: 1;}#sk-container-id-1 div.sk-parallel {display: flex;align-items: stretch;justify-content: center;background-color: white;position: relative;}#sk-container-id-1 div.sk-item::before, #sk-container-id-1 div.sk-parallel-item::before {content: \"\";position: absolute;border-left: 1px solid gray;box-sizing: border-box;top: 0;bottom: 0;left: 50%;z-index: -1;}#sk-container-id-1 div.sk-parallel-item {display: flex;flex-direction: column;z-index: 1;position: relative;background-color: white;}#sk-container-id-1 div.sk-parallel-item:first-child::after {align-self: flex-end;width: 50%;}#sk-container-id-1 div.sk-parallel-item:last-child::after {align-self: flex-start;width: 50%;}#sk-container-id-1 div.sk-parallel-item:only-child::after {width: 0;}#sk-container-id-1 div.sk-dashed-wrapped {border: 1px dashed gray;margin: 0 0.4em 0.5em 0.4em;box-sizing: border-box;padding-bottom: 0.4em;background-color: white;}#sk-container-id-1 div.sk-label label {font-family: monospace;font-weight: bold;display: inline-block;line-height: 1.2em;}#sk-container-id-1 div.sk-label-container {text-align: center;}#sk-container-id-1 div.sk-container {/* jupyter's `normalize.less` sets `[hidden] { display: none; }` but bootstrap.min.css set `[hidden] { display: none !important; }` so we also need the `!important` here to be able to override the default hidden behavior on the sphinx rendered scikit-learn.org. See: https://github.com/scikit-learn/scikit-learn/issues/21755 */display: inline-block !important;position: relative;}#sk-container-id-1 div.sk-text-repr-fallback {display: none;}</style><div id=\"sk-container-id-1\" class=\"sk-top-container\"><div class=\"sk-text-repr-fallback\"><pre>SVC()</pre><b>In a Jupyter environment, please rerun this cell to show the HTML representation or trust the notebook. <br />On GitHub, the HTML representation is unable to render, please try loading this page with nbviewer.org.</b></div><div class=\"sk-container\" hidden><div class=\"sk-item\"><div class=\"sk-estimator sk-toggleable\"><input class=\"sk-toggleable__control sk-hidden--visually\" id=\"sk-estimator-id-1\" type=\"checkbox\" checked><label for=\"sk-estimator-id-1\" class=\"sk-toggleable__label sk-toggleable__label-arrow\">SVC</label><div class=\"sk-toggleable__content\"><pre>SVC()</pre></div></div></div></div></div>"
      ]
     },
     "execution_count": 15,
     "metadata": {},
     "output_type": "execute_result"
    }
   ],
   "execution_count": 15
  },
  {
   "cell_type": "code",
   "metadata": {},
   "source": "clf.score(x_test, y_test)\n",
   "outputs": [],
   "execution_count": null
  },
  {
   "metadata": {
    "ExecuteTime": {
     "end_time": "2025-03-28T09:03:59.033283Z",
     "start_time": "2025-03-28T09:03:58.571736Z"
    }
   },
   "cell_type": "code",
   "outputs": [
    {
     "data": {
      "text/plain": [
       "0.6324110671936759"
      ]
     },
     "execution_count": 16,
     "metadata": {},
     "output_type": "execute_result"
    }
   ],
   "execution_count": 16,
   "source": "dump(clf,os.path.join('..', 'models', 'auto_pilot.joblib'))\n"
  },
  {
   "cell_type": "code",
   "metadata": {
    "ExecuteTime": {
     "end_time": "2025-03-28T09:04:03.697547Z",
     "start_time": "2025-03-28T09:04:00.266430Z"
    }
   },
   "source": [
    "from sklearn.pipeline import make_pipeline\n",
    "from sklearn.preprocessing import Normalizer\n",
    "\n",
    "model = make_pipeline(Normalizer(), SVC())\n",
    "model.fit(x_train,y_train)\n",
    "model.score(x_test, y_test)"
   ],
   "outputs": [
    {
     "data": {
      "text/plain": [
       "0.6363636363636364"
      ]
     },
     "execution_count": 17,
     "metadata": {},
     "output_type": "execute_result"
    }
   ],
   "execution_count": 17
  },
  {
   "cell_type": "code",
   "metadata": {
    "ExecuteTime": {
     "end_time": "2025-03-28T09:04:04.423115Z",
     "start_time": "2025-03-28T09:04:03.776276Z"
    }
   },
   "source": [
    "plt.scatter(y_test, clf.predict(x_test))"
   ],
   "outputs": [
    {
     "data": {
      "text/plain": [
       "<matplotlib.collections.PathCollection at 0x7f46f16289a0>"
      ]
     },
     "execution_count": 18,
     "metadata": {},
     "output_type": "execute_result"
    },
    {
     "data": {
      "text/plain": [
       "<Figure size 640x480 with 1 Axes>"
      ],
      "image/png": "[encoded data removed]"
     },
     "metadata": {},
     "output_type": "display_data"
    }
   ],
   "execution_count": 18
  },
  {
   "cell_type": "code",
   "metadata": {
    "ExecuteTime": {
     "end_time": "2025-03-28T09:04:05.391122Z",
     "start_time": "2025-03-28T09:04:05.309902Z"
    }
   },
   "source": [
    "from sklearn import ensemble\n",
    "clf = ensemble.GradientBoostingClassifier(n_estimators = 100, learning_rate = 0.1)"
   ],
   "outputs": [],
   "execution_count": 19
  },
  {
   "cell_type": "code",
   "metadata": {
    "ExecuteTime": {
     "end_time": "2025-03-28T09:04:29.074516Z",
     "start_time": "2025-03-28T09:04:06.393662Z"
    }
   },
   "source": [
    "clf.fit(x_train, y_train)"
   ],
   "outputs": [
    {
     "data": {
      "text/plain": [
       "GradientBoostingClassifier()"
      ],
      "text/html": [
       "<style>#sk-container-id-2 {color: black;}#sk-container-id-2 pre{padding: 0;}#sk-container-id-2 div.sk-toggleable {background-color: white;}#sk-container-id-2 label.sk-toggleable__label {cursor: pointer;display: block;width: 100%;margin-bottom: 0;padding: 0.3em;box-sizing: border-box;text-align: center;}#sk-container-id-2 label.sk-toggleable__label-arrow:before {content: \"▸\";float: left;margin-right: 0.25em;color: #696969;}#sk-container-id-2 label.sk-toggleable__label-arrow:hover:before {color: black;}#sk-container-id-2 div.sk-estimator:hover label.sk-toggleable__label-arrow:before {color: black;}#sk-container-id-2 div.sk-toggleable__content {max-height: 0;max-width: 0;overflow: hidden;text-align: left;background-color: #f0f8ff;}#sk-container-id-2 div.sk-toggleable__content pre {margin: 0.2em;color: black;border-radius: 0.25em;background-color: #f0f8ff;}#sk-container-id-2 input.sk-toggleable__control:checked~div.sk-toggleable__content {max-height: 200px;max-width: 100%;overflow: auto;}#sk-container-id-2 input.sk-toggleable__control:checked~label.sk-toggleable__label-arrow:before {content: \"▾\";}#sk-container-id-2 div.sk-estimator input.sk-toggleable__control:checked~label.sk-toggleable__label {background-color: #d4ebff;}#sk-container-id-2 div.sk-label input.sk-toggleable__control:checked~label.sk-toggleable__label {background-color: #d4ebff;}#sk-container-id-2 input.sk-hidden--visually {border: 0;clip: rect(1px 1px 1px 1px);clip: rect(1px, 1px, 1px, 1px);height: 1px;margin: -1px;overflow: hidden;padding: 0;position: absolute;width: 1px;}#sk-container-id-2 div.sk-estimator {font-family: monospace;background-color: #f0f8ff;border: 1px dotted black;border-radius: 0.25em;box-sizing: border-box;margin-bottom: 0.5em;}#sk-container-id-2 div.sk-estimator:hover {background-color: #d4ebff;}#sk-container-id-2 div.sk-parallel-item::after {content: \"\";width: 100%;border-bottom: 1px solid gray;flex-grow: 1;}#sk-container-id-2 div.sk-label:hover label.sk-toggleable__label {background-color: #d4ebff;}#sk-container-id-2 div.sk-serial::before {content: \"\";position: absolute;border-left: 1px solid gray;box-sizing: border-box;top: 0;bottom: 0;left: 50%;z-index: 0;}#sk-container-id-2 div.sk-serial {display: flex;flex-direction: column;align-items: center;background-color: white;padding-right: 0.2em;padding-left: 0.2em;position: relative;}#sk-container-id-2 div.sk-item {position: relative;z-index: 1;}#sk-container-id-2 div.sk-parallel {display: flex;align-items: stretch;justify-content: center;background-color: white;position: relative;}#sk-container-id-2 div.sk-item::before, #sk-container-id-2 div.sk-parallel-item::before {content: \"\";position: absolute;border-left: 1px solid gray;box-sizing: border-box;top: 0;bottom: 0;left: 50%;z-index: -1;}#sk-container-id-2 div.sk-parallel-item {display: flex;flex-direction: column;z-index: 1;position: relative;background-color: white;}#sk-container-id-2 div.sk-parallel-item:first-child::after {align-self: flex-end;width: 50%;}#sk-container-id-2 div.sk-parallel-item:last-child::after {align-self: flex-start;width: 50%;}#sk-container-id-2 div.sk-parallel-item:only-child::after {width: 0;}#sk-container-id-2 div.sk-dashed-wrapped {border: 1px dashed gray;margin: 0 0.4em 0.5em 0.4em;box-sizing: border-box;padding-bottom: 0.4em;background-color: white;}#sk-container-id-2 div.sk-label label {font-family: monospace;font-weight: bold;display: inline-block;line-height: 1.2em;}#sk-container-id-2 div.sk-label-container {text-align: center;}#sk-container-id-2 div.sk-container {/* jupyter's `normalize.less` sets `[hidden] { display: none; }` but bootstrap.min.css set `[hidden] { display: none !important; }` so we also need the `!important` here to be able to override the default hidden behavior on the sphinx rendered scikit-learn.org. See: https://github.com/scikit-learn/scikit-learn/issues/21755 */display: inline-block !important;position: relative;}#sk-container-id-2 div.sk-text-repr-fallback {display: none;}</style><div id=\"sk-container-id-2\" class=\"sk-top-container\"><div class=\"sk-text-repr-fallback\"><pre>GradientBoostingClassifier()</pre><b>In a Jupyter environment, please rerun this cell to show the HTML representation or trust the notebook. <br />On GitHub, the HTML representation is unable to render, please try loading this page with nbviewer.org.</b></div><div class=\"sk-container\" hidden><div class=\"sk-item\"><div class=\"sk-estimator sk-toggleable\"><input class=\"sk-toggleable__control sk-hidden--visually\" id=\"sk-estimator-id-2\" type=\"checkbox\" checked><label for=\"sk-estimator-id-2\" class=\"sk-toggleable__label sk-toggleable__label-arrow\">GradientBoostingClassifier</label><div class=\"sk-toggleable__content\"><pre>GradientBoostingClassifier()</pre></div></div></div></div></div>"
      ]
     },
     "execution_count": 20,
     "metadata": {},
     "output_type": "execute_result"
    }
   ],
   "execution_count": 20
  },
  {
   "cell_type": "code",
   "metadata": {
    "ExecuteTime": {
     "end_time": "2025-03-28T09:04:29.144569Z",
     "start_time": "2025-03-28T09:04:29.128546Z"
    }
   },
   "source": [
    "clf.score(x_test, y_test)"
   ],
   "outputs": [
    {
     "data": {
      "text/plain": [
       "0.6600790513833992"
      ]
     },
     "execution_count": 21,
     "metadata": {},
     "output_type": "execute_result"
    }
   ],
   "execution_count": 21
  },
  {
   "cell_type": "code",
   "metadata": {
    "ExecuteTime": {
     "end_time": "2025-03-28T09:04:29.391825Z",
     "start_time": "2025-03-28T09:04:29.202065Z"
    }
   },
   "source": [
    "plt.scatter(y_test, clf.predict(x_test))"
   ],
   "outputs": [
    {
     "data": {
      "text/plain": [
       "<matplotlib.collections.PathCollection at 0x7f46f18f17c0>"
      ]
     },
     "execution_count": 22,
     "metadata": {},
     "output_type": "execute_result"
    },
    {
     "data": {
      "text/plain": [
       "<Figure size 640x480 with 1 Axes>"
      ],
      "image/png": "[encoded data removed]"
     },
     "metadata": {},
     "output_type": "display_data"
    }
   ],
   "execution_count": 22
  },
  {
   "cell_type": "code",
   "metadata": {
    "ExecuteTime": {
     "end_time": "2025-03-28T09:04:29.436766Z",
     "start_time": "2025-03-28T09:04:29.434301Z"
    }
   },
   "source": "dump(clf,os.path.join('..', 'models', 'auto_pilot.joblib'))\n",
   "outputs": [],
   "execution_count": null
  },
  {
   "cell_type": "code",
   "execution_count": null,
   "metadata": {
    "ExecuteTime": {
     "end_time": "2024-07-07T10:53:59.006644Z",
     "start_time": "2024-07-07T10:51:20.752233Z"
    }
   },
   "outputs": [],
   "source": [
    "from sklearn.model_selection import GridSearchCV\n",
    "from sklearn import ensemble\n",
    "\n",
    "parameters = {\n",
    "    \"learning_rate\": [0.1, 0.01],\n",
    "    \"n_estimators\": [100, 200]\n",
    "}\n",
    "\n",
    "clf = GridSearchCV(ensemble.GradientBoostingClassifier(), parameters, cv=3, n_jobs=-1)\n",
    "\n",
    "clf.fit(x_train, y_train)\n",
    "print(clf.score(x_test, y_test))\n",
    "print(clf.best_params_)"
   ]
  },
  {
   "cell_type": "code",
   "metadata": {
    "ExecuteTime": {
     "end_time": "2025-03-28T09:04:29.502868Z",
     "start_time": "2025-03-28T09:04:29.482021Z"
    }
   },
   "source": "dump(clf,os.path.join('..', 'models', 'auto_pilot.joblib'))",
   "outputs": [
    {
     "data": {
      "text/plain": [
       "['../models/auto_pilot.joblib']"
      ]
     },
     "execution_count": 23,
     "metadata": {},
     "output_type": "execute_result"
    }
   ],
   "execution_count": 23
  },
  {
   "cell_type": "code",
   "execution_count": null,
   "metadata": {
    "ExecuteTime": {
     "end_time": "2024-07-07T10:54:01.512888Z",
     "start_time": "2024-07-07T10:53:59.043810Z"
    }
   },
   "outputs": [],
   "source": [
    "from sklearn.model_selection import RandomizedSearchCV\n",
    "\n",
    "parameters = {\n",
    "    \"learning_rate\": np.linspace(0.1, 0.001, 10),\n",
    "    \"min_samples_split\": np.linspace(0.1, 0.5, 12),\n",
    "    \"min_samples_leaf\": np.linspace(0.1, 0.5, 12),\n",
    "    \"max_depth\": [3,5,8],\n",
    "    \"max_features\": [\"log2\",\"sqrt\"],\n",
    "    \"criterion\": [\"friedman_mse\",  \"mae\"],\n",
    "    \"subsample\": [0.5, 0.618, 0.8, 0.85, 0.9, 0.95, 1.0],\n",
    "    \"n_estimators\": [10, 20, 50, 100, 200]\n",
    "}\n",
    "\n",
    "clf = RandomizedSearchCV(ensemble.GradientBoostingClassifier(), parameters, cv=3, n_jobs=-1, n_iter=10)\n",
    "\n",
    "clf.fit(x_train, y_train)\n",
    "print(clf.score(x_test, y_test))\n",
    "print(clf.best_params_)"
   ]
  },
  {
   "cell_type": "code",
   "execution_count": null,
   "metadata": {},
   "outputs": [],
   "source": "dump(clf,os.path.join('..', 'models', 'auto_pilot.joblib'))\n"
  },
  {
   "cell_type": "code",
   "execution_count": null,
   "metadata": {},
   "outputs": [],
   "source": []
  }
 ],
 "metadata": {
  "kernelspec": {
   "display_name": "Python 3 (ipykernel)",
   "language": "python",
   "name": "python3"
  },
  "language_info": {
   "codemirror_mode": {
    "name": "ipython",
    "version": 3
   },
   "file_extension": ".py",
   "mimetype": "text/x-python",
   "name": "python",
   "nbconvert_exporter": "python",
   "pygments_lexer": "ipython3",
   "version": "3.8.10"
  }
 },
 "nbformat": 4,
 "nbformat_minor": 4
}
