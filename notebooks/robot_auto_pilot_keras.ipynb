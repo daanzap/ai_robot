{
 "cells": [
  {
   "cell_type": "code",
   "execution_count": null,
   "metadata": {},
   "source": [],
   "outputs": []
  },
  {
   "cell_type": "markdown",
   "metadata": {},
   "source": [
    "# Keras Simple autopilot Demo RObot!"
   ]
  },
  {
   "cell_type": "code",
   "metadata": {
    "ExecuteTime": {
     "end_time": "2024-04-06T08:17:56.174217Z",
     "start_time": "2024-04-06T08:17:56.166285Z"
    }
   },
   "source": [
    "# needed for matplotlib in jupyter notebook\n",
    "%matplotlib inline\n",
    "\n",
    "# import required modules\n",
    "import matplotlib.pyplot as plt\n",
    "import numpy as np\n",
    "from tensorflow import keras\n",
    "from tensorflow.keras.datasets import mnist\n",
    "from tensorflow.keras.models import Sequential\n",
    "from tensorflow.keras.layers import Dense, Dropout, Flatten\n",
    "from tensorflow.keras.layers import Conv2D, MaxPooling2D\n",
    "from tensorflow.keras import backend as K\n",
    "import pandas as pd\n",
    "import os"
   ],
   "execution_count": 4,
   "outputs": []
  },
  {
   "cell_type": "code",
   "metadata": {
    "ExecuteTime": {
     "end_time": "2024-04-06T08:18:24.416813Z",
     "start_time": "2024-04-06T08:18:01.524419Z"
    }
   },
   "source": [
    "# prepare data\n",
    "data = pd.read_csv(os.path.join('..', 'source', 'logs', '20200904-165427.log'))\n",
    "data.shape\n",
    "data = data[data.all_stop != 'all_stop']\n",
    "data = data[data.all_stop != 'backward']\n",
    "data_forward_length =  data[data.all_stop == 'forward'].shape[0]\n",
    "data_random_forward = data[data.all_stop == 'forward'].sample(n=int(data_forward_length*0.9))\n",
    "data.drop(data_random_forward.index,inplace=True)\n",
    "data['all_stop'].value_counts().plot(kind='bar')\n",
    "plt.title('actions')\n",
    "plt.xlabel('all_stop')\n",
    "plt.ylabel('Count')\n",
    "\n",
    "image_size = 64\n",
    "\n",
    "data = data.sample(frac=1).reset_index(drop=True)\n",
    "\n"
   ],
   "execution_count": 5,
   "outputs": []
  },
  {
   "cell_type": "code",
   "execution_count": 26,
   "metadata": {},
   "source": [
    "# split into training and test data (10% test data)\n",
    "data_test = data.sample(n=int(data.shape[0]/10))\n",
    "data.drop(data_test.index,inplace=True)\n",
    "\n",
    "#labels\n",
    "\n",
    "conv_labels = [0 if values == 'forward' else values for values in data.all_stop ]\n",
    "conv_labels = [1 if values == 'turn_left' else values for values in conv_labels ]\n",
    "conv_labels = [2 if values == 'turn_right' else values for values in conv_labels ]\n",
    "\n",
    "labels = conv_labels\n",
    "\n",
    "#labels test \n",
    "conv_labels = [0 if values == 'forward' else values for values in data_test.all_stop ]\n",
    "conv_labels = [1 if values == 'turn_left' else values for values in conv_labels ]\n",
    "conv_labels = [2 if values == 'turn_right' else values for values in conv_labels ]\n",
    "\n",
    "labels_test = conv_labels\n",
    "print(len(labels_test))\n",
    "print(len(labels))"
   ],
   "outputs": []
  },
  {
   "cell_type": "code",
   "execution_count": 27,
   "metadata": {},
   "source": [
    "# convert image data\n",
    "train = data.drop([ 'all_stop'],axis=1).values\n",
    "test = data_test.drop([ 'all_stop'],axis=1).values\n",
    "\n",
    "train = train.reshape(train.shape[0],image_size,image_size,3)\n",
    "test = test.reshape(test.shape[0],image_size,image_size,3)\n",
    "\n",
    "for i in range(0,3):\n",
    "    plt.imshow(train[i])\n",
    "    plt.show()"
   ],
   "outputs": []
  },
  {
   "cell_type": "markdown",
   "metadata": {},
   "source": [
    "## Data preparation"
   ]
  },
  {
   "cell_type": "code",
   "execution_count": 28,
   "metadata": {},
   "source": [
    "# create a train and test set\n",
    "\n",
    "x_train = train.astype('float32') / 255\n",
    "x_test = test.astype('float32') / 255\n",
    "\n",
    "# convert classes to one-hot encoding\n",
    "num_classes = 3\n",
    "y_train = keras.utils.to_categorical(labels, num_classes)\n",
    "y_test = keras.utils.to_categorical(labels_test, num_classes)\n",
    "print(\"one-hot labels:\\n\", y_train[:3])\n"
   ],
   "outputs": []
  },
  {
   "cell_type": "markdown",
   "metadata": {},
   "source": [
    "## Training"
   ]
  },
  {
   "cell_type": "code",
   "execution_count": 29,
   "metadata": {},
   "source": [
    "# create model\n",
    "model = Sequential([\n",
    "    Conv2D(32, 3, activation='relu', input_shape=(image_size, image_size, 3)),\n",
    "    Conv2D(128, 3, activation='relu'),\n",
    "    MaxPooling2D(),\n",
    "    Dropout(0.25),\n",
    "    Flatten(),\n",
    "    Dense(128, activation='relu'),\n",
    "    Dropout(0.5),\n",
    "    Dense(num_classes, activation='softmax')\n",
    "])\n",
    "\n",
    "# compile model\n",
    "model.compile(loss='categorical_crossentropy', optimizer='adam', metrics=['accuracy'])\n",
    "model.summary()"
   ],
   "outputs": []
  },
  {
   "cell_type": "code",
   "execution_count": null,
   "metadata": {},
   "source": [
    "# fit model to training data\n",
    "model.fit(x_train, y_train, validation_split=0.2, epochs=10)"
   ],
   "outputs": []
  },
  {
   "cell_type": "markdown",
   "metadata": {},
   "source": [
    "## Evaluation"
   ]
  },
  {
   "cell_type": "code",
   "execution_count": 22,
   "metadata": {},
   "source": [
    "# evaluate model\n",
    "score = model.evaluate(x_test, y_test)\n",
    "print('Test accuracy:', score)"
   ],
   "outputs": []
  },
  {
   "cell_type": "code",
   "execution_count": 23,
   "metadata": {},
   "source": [
    "model.save(os.path.join('..', 'models', 'robot_model.h5'))"
   ],
   "outputs": []
  },
  {
   "cell_type": "code",
   "execution_count": null,
   "metadata": {},
   "source": [],
   "outputs": []
  }
 ],
 "metadata": {
  "kernelspec": {
   "display_name": "Python 3",
   "language": "python",
   "name": "python3"
  },
  "language_info": {
   "codemirror_mode": {
    "name": "ipython",
    "version": 3
   },
   "file_extension": ".py",
   "mimetype": "text/x-python",
   "name": "python",
   "nbconvert_exporter": "python",
   "pygments_lexer": "ipython3",
   "version": "3.8.2"
  }
 },
 "nbformat": 4,
 "nbformat_minor": 2
}
