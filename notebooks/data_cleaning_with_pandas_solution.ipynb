{
 "cells": [
  {
   "cell_type": "markdown",
   "metadata": {},
   "source": [
    "### Import libraries"
   ]
  },
  {
   "cell_type": "code",
   "execution_count": null,
   "metadata": {
    "collapsed": true
   },
   "outputs": [],
   "source": [
    "%matplotlib inline\n",
    "\n",
    "# importing pandas and numpy\n",
    "import pandas as pd\n",
    "import numpy as np\n",
    "\n",
    "import matplotlib.pyplot as plt\n",
    "import os"
   ]
  },
  {
   "cell_type": "markdown",
   "metadata": {},
   "source": [
    "### Import log file"
   ]
  },
  {
   "cell_type": "code",
   "execution_count": null,
   "metadata": {},
   "outputs": [],
   "source": [
    "# load logfile into a Pandas dataframe\n",
    "# dit stukje geven\n",
    "df = pd.read_csv(os.path.join('..', 'data', 'datasets', 'log.csv'),\n",
    "                   index_col='datetime', parse_dates=True).drop(['Unnamed: 0'], axis=1)\n",
    "\n",
    "df.info()"
   ]
  },
  {
   "cell_type": "markdown",
   "metadata": {},
   "source": [
    "* angle_of_attack: wind direction relative to the boat\n",
    "> * A positive angle of attack means the wind is blowing onto the right (starboard) side of the boat\n",
    "> * A negative angle of attack means the wind is blowing onto the left (port) side of the boat\n",
    "* boat_angle: compass direction in which the boat is going (North==0/360, East==90, South==180, West==270)\n",
    "* boat_heel: heeling angle in degrees (rotation around the longitudinal axis).\n",
    "* boat_speed: speed in knots (5 knots is 9.26 km per hr)\n",
    "* course_error: difference between boat_angle and target_angle\n",
    "* rudder_angle: position of the rudder relative to centerline of the boat\n",
    "* target_angle: compass direction in which you want to go\n",
    "* wind_direction: direction from where the wind is coming\n",
    "* wind_speed: wind speed in knots"
   ]
  },
  {
   "cell_type": "markdown",
   "metadata": {},
   "source": [
    "### Look at a sample of the dataset"
   ]
  },
  {
   "cell_type": "code",
   "execution_count": null,
   "metadata": {},
   "outputs": [],
   "source": [
    "# Print the first 5 rows of the dataframe\n",
    "# YOUR CODE HERE\n",
    "df.head()"
   ]
  },
  {
   "cell_type": "code",
   "execution_count": null,
   "metadata": {},
   "outputs": [],
   "source": [
    "# Print the last 5 rows of the dataframe\n",
    "# YOUR CODE HERE\n",
    "df.tail()"
   ]
  },
  {
   "cell_type": "code",
   "execution_count": null,
   "metadata": {
    "collapsed": true
   },
   "outputs": [],
   "source": [
    "# If you want you can look at more rows or try different slices\n",
    "# YOUR CODE HERE"
   ]
  },
  {
   "cell_type": "markdown",
   "metadata": {},
   "source": [
    "### Plotting the columns\n",
    "First we will have a visual look at the data."
   ]
  },
  {
   "cell_type": "code",
   "execution_count": null,
   "metadata": {
    "collapsed": true
   },
   "outputs": [],
   "source": [
    "# Put the columns in a list named 'columns'\n",
    "# YOUR CODE HERE\n",
    "columns = list(df)"
   ]
  },
  {
   "cell_type": "code",
   "execution_count": null,
   "metadata": {
    "scrolled": false
   },
   "outputs": [],
   "source": [
    "# Plot the data (this can take a few seconds)\n",
    "# Dit stukje geven\n",
    "for column in columns:\n",
    "    _, ax = plt.subplots(figsize=(20, 10))\n",
    "    ax.set_title(column)\n",
    "    df[column].plot(ax=ax)\n",
    "    plt.grid(True)"
   ]
  },
  {
   "cell_type": "markdown",
   "metadata": {},
   "source": [
    "## Zoom in on column rudder_angle (and clip it's maximum value)\n",
    "Our AI Captain would like to control the rudder angle of the boat. Let's zoom in on this column in the dataset"
   ]
  },
  {
   "cell_type": "code",
   "execution_count": null,
   "metadata": {},
   "outputs": [],
   "source": [
    "# dit stukje geven\n",
    "_, ax = plt.subplots(figsize=(20, 10))\n",
    "df['rudder_angle'].plot(ax=ax)\n",
    "plt.grid(True)"
   ]
  },
  {
   "cell_type": "code",
   "execution_count": null,
   "metadata": {
    "collapsed": true
   },
   "outputs": [],
   "source": [
    "# Select an interval of 1000 rows (these are 1000 datapoints) and put it in a new dataframe called 'selection'\n",
    "# YOUR CODE HERE\n",
    "selection_1k = df.iloc[0:1000]"
   ]
  },
  {
   "cell_type": "code",
   "execution_count": null,
   "metadata": {
    "scrolled": false
   },
   "outputs": [],
   "source": [
    "# plot the rudder_angle in your selection\n",
    "# YOUR CODE HERE\n",
    "_, ax = plt.subplots(figsize=(20, 10))\n",
    "selection_1k['rudder_angle'].plot(ax=ax)\n",
    "plt.grid(True)"
   ]
  },
  {
   "cell_type": "code",
   "execution_count": null,
   "metadata": {
    "scrolled": false
   },
   "outputs": [],
   "source": [
    "# Try an interval of 10,000 rows now and plot the rudder_angle on this interval\n",
    "# YOUR CODE HERE\n",
    "selection_10k = df.iloc[0:10**4]\n",
    "_, ax = plt.subplots(figsize=(20, 10))\n",
    "selection_10k['rudder_angle'].plot(ax=ax)\n",
    "plt.grid(True)"
   ]
  },
  {
   "cell_type": "code",
   "execution_count": null,
   "metadata": {},
   "outputs": [],
   "source": [
    "# Find the maximum and minimum values for rudder_angle in the entire dataset\n",
    "# YOUR CODE HERE\n",
    "df.rudder_angle.max(), df.rudder_angle.min()"
   ]
  },
  {
   "cell_type": "code",
   "execution_count": null,
   "metadata": {
    "collapsed": true
   },
   "outputs": [],
   "source": [
    "# Clip rudder_angle to [-20, 20]; i.e. set angles > 20 to 20 & angles < -20 to -20\n",
    "# YOUR CODE HERE\n",
    "df[\"rudder_angle\"] = df[\"rudder_angle\"].mask(df[\"rudder_angle\"] > 20, 20)\n",
    "df[\"rudder_angle\"] = df[\"rudder_angle\"].mask(df[\"rudder_angle\"] < -20, -20)"
   ]
  },
  {
   "cell_type": "code",
   "execution_count": null,
   "metadata": {},
   "outputs": [],
   "source": [
    "# Look at the result of what you just did\n",
    "_, ax = plt.subplots(figsize=(20, 10))\n",
    "df[(df.index.hour == 9) & (df.index.minute == 21)]['rudder_angle'].plot(ax=ax)\n",
    "plt.grid(True)"
   ]
  },
  {
   "cell_type": "markdown",
   "metadata": {},
   "source": [
    "### Boat_speed (noisy signal)"
   ]
  },
  {
   "cell_type": "code",
   "execution_count": null,
   "metadata": {},
   "outputs": [],
   "source": [
    "# Plot boat_speed of your selection_10k\n",
    "# YOUR CODE HERE\n",
    "_, ax = plt.subplots(figsize=(20, 10))\n",
    "selection_10k['boat_speed'].plot(ax=ax)\n",
    "plt.grid(True)"
   ]
  },
  {
   "cell_type": "code",
   "execution_count": null,
   "metadata": {
    "scrolled": false
   },
   "outputs": [],
   "source": [
    "# Plot boat_speed of your selection_10k again, this time with a rolling window calculation with rolling(20)\n",
    "# YOUR CODE HERE\n",
    "_, ax = plt.subplots(figsize=(20, 10))\n",
    "selection_10k['boat_speed'].rolling(20).mean().plot(ax=ax)\n",
    "plt.grid(True)"
   ]
  },
  {
   "cell_type": "markdown",
   "metadata": {},
   "source": [
    "### Removing outliers from wind_speed"
   ]
  },
  {
   "cell_type": "code",
   "execution_count": null,
   "metadata": {},
   "outputs": [],
   "source": [
    "# Maybe you noticed that the graph of wind_speed looked quite messy\n",
    "# Plot the wind_speed for you selection_10k\n",
    "# YOUR CODE HERE\n",
    "_, ax = plt.subplots(figsize=(20, 10))\n",
    "selection_10k['wind_speed'].plot(ax=ax)\n",
    "plt.grid(True)"
   ]
  },
  {
   "cell_type": "code",
   "execution_count": null,
   "metadata": {
    "collapsed": true
   },
   "outputs": [],
   "source": [
    "# The big wind_speed values are not realistic. We will define wind_speed's above 35 knots as outliers\n",
    "# Replace outliers in wind_speed with np.nan (use mask)\n",
    "# df[\"wind_speed\"] = YOUR CODE HERE\n",
    "df[\"wind_speed\"] = df[\"wind_speed\"].mask(df[\"wind_speed\"] > 35, np.nan)"
   ]
  },
  {
   "cell_type": "code",
   "execution_count": null,
   "metadata": {},
   "outputs": [],
   "source": [
    "_, ax = plt.subplots(figsize=(20, 10))\n",
    "df.iloc[0:1000]['wind_speed'].plot(ax=ax)\n",
    "plt.grid(True)"
   ]
  },
  {
   "cell_type": "markdown",
   "metadata": {},
   "source": [
    "### Removing NA's"
   ]
  },
  {
   "cell_type": "code",
   "execution_count": null,
   "metadata": {},
   "outputs": [],
   "source": [
    "# Find the columns that contain NA's\n",
    "# YOUR CODE HERE\n",
    "df.isna().sum()"
   ]
  },
  {
   "cell_type": "code",
   "execution_count": null,
   "metadata": {
    "collapsed": true
   },
   "outputs": [],
   "source": [
    "# Replace the NA's in each column with the last valid observation\n",
    "# Can you think of a reason why this makes more sense here then replace with mean value?\n",
    "df['boat_heel'].fillna(method='ffill', inplace=True)\n",
    "df['target_angle'].fillna(method='ffill', inplace=True)\n",
    "df['wind_speed'].fillna(method='ffill', inplace=True)"
   ]
  },
  {
   "cell_type": "code",
   "execution_count": null,
   "metadata": {},
   "outputs": [],
   "source": [
    "df.isna().sum().sum()\n",
    "# This should show 0"
   ]
  },
  {
   "cell_type": "markdown",
   "metadata": {},
   "source": [
    "### Creating a new feature\n",
    "You can create your own features based on the existing columns.\n",
    "In sailing VMG is used a lot.\n",
    "VMG stands for Velocity Made Good and is defined as the the velocity component in the directing where you want to be going.\n",
    "Maybe this feature will help our machine learning algorithm."
   ]
  },
  {
   "cell_type": "code",
   "execution_count": null,
   "metadata": {
    "collapsed": true
   },
   "outputs": [],
   "source": [
    "df['VMG'] = df.boat_speed*np.cos(np.deg2rad(df.course_error))\n",
    "\n",
    "df = df[['wind_speed', 'wind_direction',\n",
    "         'angle_of_attack', 'boat_heel',\n",
    "         'boat_speed', 'VMG',\n",
    "         'target_angle', 'boat_angle', 'course_error',\n",
    "         'rudder_angle']]"
   ]
  },
  {
   "cell_type": "code",
   "execution_count": null,
   "metadata": {},
   "outputs": [],
   "source": [
    "_, ax = plt.subplots(figsize=(20, 10))\n",
    "df.iloc[0:1000].boat_speed.plot(ax=ax)\n",
    "df.iloc[0:1000].VMG.plot(ax=ax)\n",
    "plt.legend()"
   ]
  },
  {
   "cell_type": "markdown",
   "metadata": {},
   "source": [
    "### Plotting correlation matrix"
   ]
  },
  {
   "cell_type": "code",
   "execution_count": null,
   "metadata": {},
   "outputs": [],
   "source": [
    "# Plot the correlation matrix of the dataframe\n",
    "# YOUR CODE HERE\n",
    "corr = df.corr()\n",
    "corr.style.background_gradient()"
   ]
  },
  {
   "cell_type": "code",
   "execution_count": null,
   "metadata": {},
   "outputs": [],
   "source": [
    "_, ax = plt.subplots(figsize=(20, 10))\n",
    "df.iloc[0:1000].plot(ax=ax)\n",
    "plt.legend()"
   ]
  },
  {
   "cell_type": "markdown",
   "metadata": {},
   "source": [
    "Notice that the range of the values can differ quite a lot per column"
   ]
  },
  {
   "cell_type": "markdown",
   "metadata": {},
   "source": [
    "### What did you learn?\n",
    "In this notebook you have:\n",
    "* Clipped the values of rudder_angle to [-20, 20]\n",
    "* Used rolling mean to vizualize boat speed signal\n",
    "* Replaced outliers in wind_speed\n",
    "* Replaced NA's in boat_heel and target_angle\n",
    "* Added a new feature\n",
    "* Looked at the correlation matrix"
   ]
  },
  {
   "cell_type": "code",
   "execution_count": null,
   "metadata": {
    "collapsed": true
   },
   "outputs": [],
   "source": [
    "# Save df to pickle\n",
    "df.to_pickle('data_clean.pkl')"
   ]
  },
  {
   "cell_type": "code",
   "execution_count": null,
   "metadata": {
    "collapsed": true
   },
   "outputs": [],
   "source": []
  },
  {
   "cell_type": "code",
   "execution_count": null,
   "metadata": {
    "collapsed": true
   },
   "outputs": [],
   "source": []
  }
 ],
 "metadata": {
  "kernelspec": {
   "display_name": "Python [conda env:aicaptain]",
   "language": "python",
   "name": "conda-env-aicaptain-py"
  },
  "language_info": {
   "codemirror_mode": {
    "name": "ipython",
    "version": 3
   },
   "file_extension": ".py",
   "mimetype": "text/x-python",
   "name": "python",
   "nbconvert_exporter": "python",
   "pygments_lexer": "ipython3",
   "version": "3.6.7"
  }
 },
 "nbformat": 4,
 "nbformat_minor": 2
}
