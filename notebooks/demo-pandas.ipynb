{
 "cells": [
  {
   "cell_type": "code",
   "execution_count": null,
   "metadata": {
    "ExecuteTime": {
     "end_time": "2024-07-07T08:13:16.291081Z",
     "start_time": "2024-07-07T08:13:15.561400Z"
    }
   },
   "outputs": [],
   "source": [
    "%matplotlib inline\n",
    "\n",
    "# importing pandas and numpy\n",
    "import pandas as pd\n",
    "import numpy as np\n",
    "\n",
    "import os"
   ]
  },
  {
   "cell_type": "markdown",
   "metadata": {},
   "source": [
    "# about CSV"
   ]
  },
  {
   "cell_type": "code",
   "execution_count": null,
   "metadata": {
    "ExecuteTime": {
     "end_time": "2024-07-07T08:13:18.069087Z",
     "start_time": "2024-07-07T08:13:17.994775Z"
    }
   },
   "outputs": [],
   "source": [
    "# read a CSV into a dataframe\n",
    "df = pd.read_csv(os.path.join('..', 'data', 'datasets', 'kc_house_data.csv'))"
   ]
  },
  {
   "cell_type": "code",
   "execution_count": null,
   "metadata": {
    "ExecuteTime": {
     "end_time": "2024-07-07T08:13:19.803874Z",
     "start_time": "2024-07-07T08:13:19.797128Z"
    }
   },
   "outputs": [],
   "source": [
    "# show shape\n",
    "df.shape"
   ]
  },
  {
   "cell_type": "code",
   "execution_count": null,
   "metadata": {
    "ExecuteTime": {
     "end_time": "2024-07-07T08:13:22.340796Z",
     "start_time": "2024-07-07T08:13:22.318233Z"
    }
   },
   "outputs": [],
   "source": [
    "# show the first couple of rows (default is 5 rows)\n",
    "df.head()"
   ]
  },
  {
   "cell_type": "code",
   "execution_count": null,
   "metadata": {
    "ExecuteTime": {
     "end_time": "2024-07-07T08:13:24.168988Z",
     "start_time": "2024-07-07T08:13:24.151543Z"
    }
   },
   "outputs": [],
   "source": [
    "# show the last couple of rows (default is 5 rows)\n",
    "df.tail()"
   ]
  },
  {
   "cell_type": "code",
   "execution_count": null,
   "metadata": {
    "ExecuteTime": {
     "end_time": "2024-07-07T08:13:25.207805Z",
     "start_time": "2024-07-07T08:13:25.203081Z"
    }
   },
   "outputs": [],
   "source": [
    "# show columns (in a list)\n",
    "list(df)"
   ]
  },
  {
   "cell_type": "code",
   "execution_count": null,
   "metadata": {
    "ExecuteTime": {
     "end_time": "2024-07-07T08:13:27.515761Z",
     "start_time": "2024-07-07T08:13:27.506834Z"
    },
    "scrolled": true
   },
   "outputs": [],
   "source": [
    "# selecting a column\n",
    "df['bathrooms'] # or df.bathrooms"
   ]
  },
  {
   "cell_type": "code",
   "execution_count": null,
   "metadata": {
    "ExecuteTime": {
     "end_time": "2024-07-07T08:13:29.242190Z",
     "start_time": "2024-07-07T08:13:29.216915Z"
    }
   },
   "outputs": [],
   "source": [
    "# selecting data by row numbers (.iloc)\n",
    "df.iloc[5:10]"
   ]
  },
  {
   "cell_type": "code",
   "execution_count": null,
   "metadata": {
    "ExecuteTime": {
     "end_time": "2024-07-07T08:13:30.960295Z",
     "start_time": "2024-07-07T08:13:30.952Z"
    }
   },
   "outputs": [],
   "source": [
    "# selecting the values for bedrooms from the rows shown above\n",
    "df.iloc[5:10]['bedrooms'] # or df['bedrooms'][5:10]"
   ]
  },
  {
   "cell_type": "code",
   "execution_count": null,
   "metadata": {
    "ExecuteTime": {
     "end_time": "2024-07-07T08:13:32.957927Z",
     "start_time": "2024-07-07T08:13:32.936110Z"
    },
    "scrolled": true
   },
   "outputs": [],
   "source": [
    "# Selecting data by label or by a conditional statment (.loc)\n",
    "df.loc[df.bedrooms > 10]"
   ]
  },
  {
   "cell_type": "code",
   "execution_count": null,
   "metadata": {},
   "outputs": [],
   "source": [
    "# getting the maximum of a column\n",
    "df['sqft_living'].max()   # or df.sqft_living.max()"
   ]
  },
  {
   "cell_type": "code",
   "execution_count": null,
   "metadata": {},
   "outputs": [],
   "source": [
    "# getting the minimum of a comumn\n",
    "df['sqft_living'].min()   # or df.sqft_living.min()"
   ]
  },
  {
   "cell_type": "code",
   "execution_count": null,
   "metadata": {},
   "outputs": [],
   "source": [
    "# Clip sqft_living to 10000; i.e. set sqft_living > 10000 to 10000, using mask\n",
    "df[\"sqft_living\"] = df[\"sqft_living\"].mask(df[\"sqft_living\"] > 10000, 10000)\n",
    "df['sqft_living'].max() "
   ]
  },
  {
   "cell_type": "code",
   "execution_count": null,
   "metadata": {
    "scrolled": true
   },
   "outputs": [],
   "source": [
    "# create dataframe from series\n",
    "a = pd.Series([1, 2, 3, np.nan, np.nan, 4, 5])\n",
    "b = pd.Series(['dsads', 'dsda', np.nan, 'dsad', 'dsad', 'dasda', 'dsda'])\n",
    "df1 = pd.DataFrame({'a': a, 'b': b})\n",
    "df1"
   ]
  },
  {
   "cell_type": "code",
   "execution_count": null,
   "metadata": {},
   "outputs": [],
   "source": [
    "# count missing values\n",
    "df1.isna().sum()"
   ]
  },
  {
   "cell_type": "code",
   "execution_count": null,
   "metadata": {},
   "outputs": [],
   "source": [
    "# fill missing values\n",
    "df1['a'].fillna(0, inplace=True)\n",
    "df1['b'].fillna('nope', inplace=True)\n",
    "df1"
   ]
  },
  {
   "cell_type": "code",
   "execution_count": null,
   "metadata": {
    "scrolled": true
   },
   "outputs": [],
   "source": [
    "# create dataframe from series\n",
    "a = pd.Series([1, 2, 3, np.nan, np.nan, 4, 5])\n",
    "b = pd.Series(['dsads', 'dsda', np.nan, 'dsad', 'dsad', 'dasda', 'dsda'])\n",
    "df_1 = pd.DataFrame({'a': a, 'b': b})\n",
    "df_1"
   ]
  },
  {
   "cell_type": "code",
   "execution_count": null,
   "metadata": {
    "scrolled": true
   },
   "outputs": [],
   "source": [
    "# propagate last valid observation forward\n",
    "df_1['a'].fillna(method='ffill', inplace=True)\n",
    "df_1"
   ]
  },
  {
   "cell_type": "code",
   "execution_count": null,
   "metadata": {},
   "outputs": [],
   "source": [
    "# Drop rows that contain missing values\n",
    "df_1.dropna(inplace = True)\n",
    "df_1"
   ]
  },
  {
   "cell_type": "code",
   "execution_count": null,
   "metadata": {},
   "outputs": [],
   "source": [
    "# sorting\n",
    "df.sort_values('bathrooms', ascending=False).head()"
   ]
  },
  {
   "cell_type": "code",
   "execution_count": null,
   "metadata": {},
   "outputs": [],
   "source": [
    "# basic plotting\n",
    "df.plot.scatter(x='sqft_living', y='sqft_above')"
   ]
  },
  {
   "cell_type": "code",
   "execution_count": null,
   "metadata": {
    "ExecuteTime": {
     "end_time": "2024-07-07T08:13:06.509330Z",
     "start_time": "2024-07-07T08:13:06.295921Z"
    }
   },
   "outputs": [],
   "source": [
    "# groupby\n",
    "df.groupby('condition').price.mean().plot(kind='bar')"
   ]
  },
  {
   "cell_type": "code",
   "execution_count": null,
   "metadata": {},
   "outputs": [],
   "source": [
    "# merge\n",
    "df2 = pd.DataFrame([{'b': 'dsad', 'c': 22}, {'b': 'nope', 'c': 300}])\n",
    "pd.merge(df1, df2, on='b', how='left').dropna()"
   ]
  },
  {
   "cell_type": "code",
   "execution_count": null,
   "metadata": {},
   "outputs": [],
   "source": []
  }
 ],
 "metadata": {
  "kernelspec": {
   "display_name": "Python 3 (ipykernel)",
   "language": "python",
   "name": "python3"
  },
  "language_info": {
   "codemirror_mode": {
    "name": "ipython",
    "version": 3
   },
   "file_extension": ".py",
   "mimetype": "text/x-python",
   "name": "python",
   "nbconvert_exporter": "python",
   "pygments_lexer": "ipython3",
   "version": "3.8.10"
  }
 },
 "nbformat": 4,
 "nbformat_minor": 4
}
