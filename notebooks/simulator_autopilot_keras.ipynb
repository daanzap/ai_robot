{
 "cells": [
  {
   "cell_type": "code",
   "execution_count": null,
   "metadata": {},
   "outputs": [],
   "source": []
  },
  {
   "cell_type": "markdown",
   "metadata": {},
   "source": [
    "# Keras Simple autopilot Demo"
   ]
  },
  {
   "cell_type": "code",
   "execution_count": 71,
   "metadata": {},
   "outputs": [],
   "source": [
    "# needed for matplotlib in jupyter notebook\n",
    "%matplotlib inline\n",
    "\n",
    "# import required modules\n",
    "import matplotlib.pyplot as plt\n",
    "import numpy as np\n",
    "from tensorflow import keras\n",
    "from tensorflow.keras.datasets import mnist\n",
    "from tensorflow.keras.models import Sequential\n",
    "from tensorflow.keras.layers import Dense, Dropout, Flatten\n",
    "from tensorflow.keras.layers import Conv2D, MaxPooling2D\n",
    "from tensorflow.keras import backend as K\n",
    "import pandas as pd\n",
    "import os\n",
    "from ipyfilechooser import FileChooser\n"
   ]
  },
  {
   "cell_type": "code",
   "execution_count": 75,
   "metadata": {},
   "outputs": [
    {
     "data": {
      "application/vnd.jupyter.widget-view+json": {
       "model_id": "bd7b537ad3114e8c8bc56e52840dfc5c",
       "version_major": 2,
       "version_minor": 0
      },
      "text/plain": [
       "FileChooser(path='/home/daan/bitofpepper/ai_robot_new/ai_robot/notebooks', filename='', title='', show_hidden=…"
      ]
     },
     "metadata": {},
     "output_type": "display_data"
    }
   ],
   "source": [
    "fc = FileChooser()\n",
    "display(fc)\n"
   ]
  },
  {
   "cell_type": "code",
   "execution_count": 123,
   "metadata": {},
   "outputs": [
    {
     "name": "stdout",
     "output_type": "stream",
     "text": [
      "stop\n"
     ]
    }
   ],
   "source": [
    "# prepare data\n",
    "data = pd.read_csv(os.path.join('..', 'simulator', 'logs', fc.selected))\n",
    "label_movement = data.columns[0]\n",
    "print(label_movement)\n"
   ]
  },
  {
   "cell_type": "code",
   "execution_count": 124,
   "metadata": {},
   "outputs": [
    {
     "data": {
      "text/plain": [
       "Text(0, 0.5, 'Count')"
      ]
     },
     "execution_count": 124,
     "metadata": {},
     "output_type": "execute_result"
    },
    {
     "data": {
      "image/png": "[encoded data removed]",
      "text/plain": [
       "<Figure size 640x480 with 1 Axes>"
      ]
     },
     "metadata": {},
     "output_type": "display_data"
    }
   ],
   "source": [
    "label_movement = data.columns[0]\n",
    "data = data[data[label_movement] != 'stop']\n",
    "data_random_forward = data[data[label_movement] == 'forward'].sample(n=int(data.shape[0]/2))\n",
    "data.drop(data_random_forward.index,inplace=True)\n",
    "data[label_movement].value_counts().plot(kind='bar')\n",
    "plt.title('actions')\n",
    "plt.xlabel('action')\n",
    "plt.ylabel('Count')"
   ]
  },
  {
   "cell_type": "code",
   "execution_count": 125,
   "metadata": {},
   "outputs": [
    {
     "name": "stdout",
     "output_type": "stream",
     "text": [
      "353\n",
      "3185\n"
     ]
    }
   ],
   "source": [
    "# split into training and test data (10% test data)\n",
    "data_test = data.sample(n=int(data.shape[0]/10))\n",
    "data.drop(data_test.index,inplace=True)\n",
    "\n",
    "#labels\n",
    "\n",
    "conv_labels = [0 if values == 'forward' else values for values in data[label_movement] ]\n",
    "conv_labels = [1 if values == 'left' else values for values in conv_labels ]\n",
    "conv_labels = [2 if values == 'right' else values for values in conv_labels ]\n",
    "\n",
    "labels = conv_labels\n",
    "\n",
    "#labels test \n",
    "conv_labels = [0 if values == 'forward' else values for values in data_test[label_movement] ]\n",
    "conv_labels = [1 if values == 'left' else values for values in conv_labels ]\n",
    "conv_labels = [2 if values == 'right' else values for values in conv_labels ]\n",
    "\n",
    "labels_test = conv_labels\n",
    "print(len(labels_test))\n",
    "print(len(labels))"
   ]
  },
  {
   "cell_type": "code",
   "execution_count": 126,
   "metadata": {},
   "outputs": [],
   "source": [
    "# convert image data\n",
    "train = data.drop([ label_movement],axis=1).values\n",
    "test = data_test.drop(label_movement,axis=1).values\n",
    "\n",
    "train = train.reshape(train.shape[0],20,20,3)\n",
    "test = test.reshape(test.shape[0],20,20,3)"
   ]
  },
  {
   "cell_type": "markdown",
   "metadata": {},
   "source": [
    "## Data preparation"
   ]
  },
  {
   "cell_type": "code",
   "execution_count": 127,
   "metadata": {},
   "outputs": [
    {
     "name": "stdout",
     "output_type": "stream",
     "text": [
      "one-hot labels:\n",
      " [[1. 0. 0.]\n",
      " [1. 0. 0.]\n",
      " [1. 0. 0.]]\n"
     ]
    }
   ],
   "source": [
    "# create a smaller test set\n",
    "\n",
    "x_train = train.astype('float32') / 255\n",
    "x_test = test.astype('float32') / 255\n",
    "\n",
    "# convert classes to one-hot encoding\n",
    "num_classes = 3\n",
    "y_train = keras.utils.to_categorical(labels, num_classes)\n",
    "y_test = keras.utils.to_categorical(labels_test, num_classes)\n",
    "print(\"one-hot labels:\\n\", y_train[:3])\n"
   ]
  },
  {
   "cell_type": "markdown",
   "metadata": {},
   "source": [
    "## Training"
   ]
  },
  {
   "cell_type": "code",
   "execution_count": 128,
   "metadata": {},
   "outputs": [
    {
     "name": "stdout",
     "output_type": "stream",
     "text": [
      "Model: \"sequential_11\"\n",
      "_________________________________________________________________\n",
      " Layer (type)                Output Shape              Param #   \n",
      "=================================================================\n",
      " conv2d_22 (Conv2D)          (None, 18, 18, 32)        896       \n",
      "                                                                 \n",
      " conv2d_23 (Conv2D)          (None, 16, 16, 128)       36992     \n",
      "                                                                 \n",
      " max_pooling2d_11 (MaxPooli  (None, 8, 8, 128)         0         \n",
      " ng2D)                                                           \n",
      "                                                                 \n",
      " dropout_22 (Dropout)        (None, 8, 8, 128)         0         \n",
      "                                                                 \n",
      " flatten_11 (Flatten)        (None, 8192)              0         \n",
      "                                                                 \n",
      " dense_30 (Dense)            (None, 128)               1048704   \n",
      "                                                                 \n",
      " dense_31 (Dense)            (None, 128)               16512     \n",
      "                                                                 \n",
      " dropout_23 (Dropout)        (None, 128)               0         \n",
      "                                                                 \n",
      " dense_32 (Dense)            (None, 3)                 387       \n",
      "                                                                 \n",
      "=================================================================\n",
      "Total params: 1103491 (4.21 MB)\n",
      "Trainable params: 1103491 (4.21 MB)\n",
      "Non-trainable params: 0 (0.00 Byte)\n",
      "_________________________________________________________________\n"
     ]
    }
   ],
   "source": [
    "# create model\n",
    "model = Sequential([\n",
    "    Conv2D(32, 3, activation='relu', input_shape=(20, 20, 3)),\n",
    "    Conv2D(128, 3, activation='relu'),\n",
    "    MaxPooling2D(),\n",
    "    Dropout(0.25),\n",
    "    Flatten(),\n",
    "    Dense(128, activation='relu'),\n",
    "    Dense(128, activation='relu'),\n",
    "    Dropout(0.5),\n",
    "    Dense(num_classes, activation='softmax')\n",
    "])\n",
    "\n",
    "# compile model\n",
    "model.compile(loss='categorical_crossentropy', optimizer=keras.optimizers.Adam(), metrics=['accuracy'])\n",
    "model.summary()"
   ]
  },
  {
   "cell_type": "code",
   "execution_count": 129,
   "metadata": {},
   "outputs": [
    {
     "name": "stdout",
     "output_type": "stream",
     "text": [
      "Epoch 1/10\n",
      "80/80 [==============================] - 3s 27ms/step - loss: 0.9562 - accuracy: 0.5522 - val_loss: 0.9892 - val_accuracy: 0.4662\n",
      "Epoch 2/10\n",
      "80/80 [==============================] - 2s 24ms/step - loss: 0.8614 - accuracy: 0.5934 - val_loss: 0.9856 - val_accuracy: 0.5086\n",
      "Epoch 3/10\n",
      "80/80 [==============================] - 2s 25ms/step - loss: 0.8364 - accuracy: 0.6056 - val_loss: 1.0562 - val_accuracy: 0.4819\n",
      "Epoch 4/10\n",
      "80/80 [==============================] - 2s 27ms/step - loss: 0.7972 - accuracy: 0.6323 - val_loss: 0.9543 - val_accuracy: 0.5243\n",
      "Epoch 5/10\n",
      "80/80 [==============================] - 2s 24ms/step - loss: 0.7493 - accuracy: 0.6503 - val_loss: 1.0071 - val_accuracy: 0.5118\n",
      "Epoch 6/10\n",
      "80/80 [==============================] - 2s 26ms/step - loss: 0.7151 - accuracy: 0.6805 - val_loss: 0.9750 - val_accuracy: 0.5557\n",
      "Epoch 7/10\n",
      "80/80 [==============================] - 2s 31ms/step - loss: 0.6594 - accuracy: 0.7084 - val_loss: 0.9989 - val_accuracy: 0.5243\n",
      "Epoch 8/10\n",
      "80/80 [==============================] - 2s 25ms/step - loss: 0.6051 - accuracy: 0.7323 - val_loss: 1.0880 - val_accuracy: 0.5290\n",
      "Epoch 9/10\n",
      "80/80 [==============================] - 2s 25ms/step - loss: 0.5603 - accuracy: 0.7602 - val_loss: 1.2088 - val_accuracy: 0.5463\n",
      "Epoch 10/10\n",
      "80/80 [==============================] - 2s 25ms/step - loss: 0.4979 - accuracy: 0.7857 - val_loss: 1.3234 - val_accuracy: 0.5259\n"
     ]
    },
    {
     "data": {
      "text/plain": [
       "<keras.src.callbacks.History at 0x7f5bfedfad30>"
      ]
     },
     "execution_count": 129,
     "metadata": {},
     "output_type": "execute_result"
    }
   ],
   "source": [
    "# fit model to training data\n",
    "model.fit(x_train, y_train, validation_split=0.2, epochs=10)"
   ]
  },
  {
   "cell_type": "markdown",
   "metadata": {},
   "source": [
    "## Evaluation"
   ]
  },
  {
   "cell_type": "code",
   "execution_count": 121,
   "metadata": {},
   "outputs": [
    {
     "name": "stdout",
     "output_type": "stream",
     "text": [
      "6/6 [==============================] - 0s 7ms/step - loss: 0.8906 - accuracy: 0.5864\n",
      "Test accuracy: [0.8906375169754028, 0.5863874554634094]\n"
     ]
    }
   ],
   "source": [
    "# evaluate model\n",
    "score = model.evaluate(x_test, y_test)\n",
    "print('Test accuracy:', score)"
   ]
  },
  {
   "cell_type": "code",
   "execution_count": 122,
   "metadata": {},
   "outputs": [],
   "source": [
    "model.save(os.path.join('..', 'models', 'my-keras-model.keras'))"
   ]
  },
  {
   "cell_type": "code",
   "execution_count": null,
   "metadata": {},
   "outputs": [],
   "source": []
  },
  {
   "cell_type": "code",
   "execution_count": null,
   "metadata": {},
   "outputs": [],
   "source": []
  }
 ],
 "metadata": {
  "kernelspec": {
   "display_name": "Python 3 (ipykernel)",
   "language": "python",
   "name": "python3"
  },
  "language_info": {
   "codemirror_mode": {
    "name": "ipython",
    "version": 3
   },
   "file_extension": ".py",
   "mimetype": "text/x-python",
   "name": "python",
   "nbconvert_exporter": "python",
   "pygments_lexer": "ipython3",
   "version": "3.8.10"
  }
 },
 "nbformat": 4,
 "nbformat_minor": 4
}
